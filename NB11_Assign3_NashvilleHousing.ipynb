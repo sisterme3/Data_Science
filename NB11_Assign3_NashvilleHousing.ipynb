{
  "nbformat": 4,
  "nbformat_minor": 0,
  "metadata": {
    "colab": {
      "name": "NB11_Assign3_NashvilleHousing.ipynb",
      "provenance": [],
      "include_colab_link": true
    },
    "kernelspec": {
      "name": "python3",
      "display_name": "Python 3"
    }
  },
  "cells": [
    {
      "cell_type": "markdown",
      "metadata": {
        "id": "view-in-github",
        "colab_type": "text"
      },
      "source": [
        "<a href=\"https://colab.research.google.com/github/sisterme3/Data_Science/blob/master/NB11_Assign3_NashvilleHousing.ipynb\" target=\"_parent\"><img src=\"https://colab.research.google.com/assets/colab-badge.svg\" alt=\"Open In Colab\"/></a>"
      ]
    },
    {
      "cell_type": "markdown",
      "metadata": {
        "id": "wRdVnLY2vcHA",
        "colab_type": "text"
      },
      "source": [
        "### Suppose you are planning to purchase a home in Nashville in the near future. You would like to determine the best place to consider buying based upon your budget restrictions and space needs ... as well as distance to work and other possible factors. "
      ]
    },
    {
      "cell_type": "code",
      "metadata": {
        "id": "qxOA2VNf5_ZV",
        "colab_type": "code",
        "outputId": "27a266cc-c574-49c4-8ef5-770d19ae68b2",
        "colab": {
          "base_uri": "https://localhost:8080/",
          "height": 121
        }
      },
      "source": [
        "! git clone https://github.com/acreeg/NashvilleHousingData.git"
      ],
      "execution_count": 0,
      "outputs": [
        {
          "output_type": "stream",
          "text": [
            "Cloning into 'NashvilleHousingData'...\n",
            "remote: Enumerating objects: 9, done.\u001b[K\n",
            "remote: Counting objects: 100% (9/9), done.\u001b[K\n",
            "remote: Compressing objects: 100% (9/9), done.\u001b[K\n",
            "remote: Total 9 (delta 3), reused 0 (delta 0), pack-reused 0\u001b[K\n",
            "Unpacking objects: 100% (9/9), done.\n"
          ],
          "name": "stdout"
        }
      ]
    },
    {
      "cell_type": "markdown",
      "metadata": {
        "id": "mKWwdKAI6TSW",
        "colab_type": "text"
      },
      "source": [
        "Import packages, read data into dataframes, reassign column names"
      ]
    },
    {
      "cell_type": "code",
      "metadata": {
        "id": "07tC7-286TsO",
        "colab_type": "code",
        "colab": {}
      },
      "source": [
        "#import the pandas package for data analytics\n",
        "# and matplotlib for visualizations\n",
        "import pandas as pd\n",
        "import matplotlib.pyplot as plt\n",
        "%matplotlib inline\n",
        "\n",
        "# Read the data files into pandas dataframes .\n",
        "# Notice that we must indicate the full path of the data file.\n",
        "houses_2017 = pd.read_csv('NashvilleHousingData/2017SINGLEFAMILYSF.txt')\n",
        "\n",
        "# Alter the column names in each of the new dataframes\n",
        "houses_2017.columns = ['APN', 'DistrictCode', 'CouncilDistrict', 'AddressFullAddress',\n",
        "       'AddressCity', 'AddressPostalCode', 'LAND', 'IMPR', 'TOTALAPPR',\n",
        "       'TOTALASSD', 'FinishedArea']\n"
      ],
      "execution_count": 0,
      "outputs": []
    },
    {
      "cell_type": "markdown",
      "metadata": {
        "id": "7pjwiHoR6JuF",
        "colab_type": "text"
      },
      "source": [
        "### Before we dig into the Nashville/Davidson Housing Data, let's take a look at some of the python/pandas details that will help us to work with the data in a way that will be most helpful."
      ]
    },
    {
      "cell_type": "markdown",
      "metadata": {
        "id": "uhaKns7Gw5bY",
        "colab_type": "text"
      },
      "source": [
        "Let's build a dataframe from scratch. \n",
        "\n",
        "We will first create several lists, that will become the columns of our dataframe.\n"
      ]
    },
    {
      "cell_type": "code",
      "metadata": {
        "id": "tcG131-tvaCQ",
        "colab_type": "code",
        "outputId": "0137784f-115a-47ad-c790-143ec4ba8ca2",
        "colab": {
          "base_uri": "https://localhost:8080/",
          "height": 238
        }
      },
      "source": [
        "# imports\n",
        "import pandas as pd\n",
        "\n",
        "# Create the lists\n",
        "names = ['Bob', 'Susan', 'Greg', 'Corey', 'Abbey', 'Nora']\n",
        "salary = [85657, 56220, 75879, 35447, 123541, 77869]\n",
        "years_employed = [5,8,3,6,16,2]\n",
        "age = [35,48,32,51,45,26]\n",
        "\n",
        "# Create a dictionary from the lists\n",
        "# Note: a dictionary is a sequence of key:value pairs ...\n",
        "# where the key provides the name/id, and the value provides the data/object\n",
        "data = {'Names': names, 'Salary': salary, 'YearsEmployed': years_employed, 'Age': age}\n",
        "\n",
        "# Create a pandas dataframe built upon the dictionary named 'data' created above.\n",
        "NewDataFrame = pd.DataFrame(data)\n",
        "NewDataFrame\n",
        "\n"
      ],
      "execution_count": 0,
      "outputs": [
        {
          "output_type": "execute_result",
          "data": {
            "text/html": [
              "<div>\n",
              "<style scoped>\n",
              "    .dataframe tbody tr th:only-of-type {\n",
              "        vertical-align: middle;\n",
              "    }\n",
              "\n",
              "    .dataframe tbody tr th {\n",
              "        vertical-align: top;\n",
              "    }\n",
              "\n",
              "    .dataframe thead th {\n",
              "        text-align: right;\n",
              "    }\n",
              "</style>\n",
              "<table border=\"1\" class=\"dataframe\">\n",
              "  <thead>\n",
              "    <tr style=\"text-align: right;\">\n",
              "      <th></th>\n",
              "      <th>Names</th>\n",
              "      <th>Salary</th>\n",
              "      <th>YearsEmployed</th>\n",
              "      <th>Age</th>\n",
              "    </tr>\n",
              "  </thead>\n",
              "  <tbody>\n",
              "    <tr>\n",
              "      <th>0</th>\n",
              "      <td>Bob</td>\n",
              "      <td>85657</td>\n",
              "      <td>5</td>\n",
              "      <td>35</td>\n",
              "    </tr>\n",
              "    <tr>\n",
              "      <th>1</th>\n",
              "      <td>Susan</td>\n",
              "      <td>56220</td>\n",
              "      <td>8</td>\n",
              "      <td>48</td>\n",
              "    </tr>\n",
              "    <tr>\n",
              "      <th>2</th>\n",
              "      <td>Greg</td>\n",
              "      <td>75879</td>\n",
              "      <td>3</td>\n",
              "      <td>32</td>\n",
              "    </tr>\n",
              "    <tr>\n",
              "      <th>3</th>\n",
              "      <td>Corey</td>\n",
              "      <td>35447</td>\n",
              "      <td>6</td>\n",
              "      <td>51</td>\n",
              "    </tr>\n",
              "    <tr>\n",
              "      <th>4</th>\n",
              "      <td>Abbey</td>\n",
              "      <td>123541</td>\n",
              "      <td>16</td>\n",
              "      <td>45</td>\n",
              "    </tr>\n",
              "    <tr>\n",
              "      <th>5</th>\n",
              "      <td>Nora</td>\n",
              "      <td>77869</td>\n",
              "      <td>2</td>\n",
              "      <td>26</td>\n",
              "    </tr>\n",
              "  </tbody>\n",
              "</table>\n",
              "</div>"
            ],
            "text/plain": [
              "   Names  Salary  YearsEmployed  Age\n",
              "0    Bob   85657              5   35\n",
              "1  Susan   56220              8   48\n",
              "2   Greg   75879              3   32\n",
              "3  Corey   35447              6   51\n",
              "4  Abbey  123541             16   45\n",
              "5   Nora   77869              2   26"
            ]
          },
          "metadata": {
            "tags": []
          },
          "execution_count": 4
        }
      ]
    },
    {
      "cell_type": "markdown",
      "metadata": {
        "id": "nRYJM2N0J0ON",
        "colab_type": "text"
      },
      "source": [
        "### Create a new column in NewDataFrame called 'YearsToRetirement' by subtracting the 'Age' column from 67."
      ]
    },
    {
      "cell_type": "code",
      "metadata": {
        "id": "OY3CzYrNJ0cb",
        "colab_type": "code",
        "outputId": "11ac5703-725a-4051-cab4-6e3045f4d900",
        "colab": {
          "base_uri": "https://localhost:8080/",
          "height": 238
        }
      },
      "source": [
        "NewDataFrame['YearsToRetirement']= 67 - NewDataFrame['Age']\n",
        "NewDataFrame"
      ],
      "execution_count": 0,
      "outputs": [
        {
          "output_type": "execute_result",
          "data": {
            "text/html": [
              "<div>\n",
              "<style scoped>\n",
              "    .dataframe tbody tr th:only-of-type {\n",
              "        vertical-align: middle;\n",
              "    }\n",
              "\n",
              "    .dataframe tbody tr th {\n",
              "        vertical-align: top;\n",
              "    }\n",
              "\n",
              "    .dataframe thead th {\n",
              "        text-align: right;\n",
              "    }\n",
              "</style>\n",
              "<table border=\"1\" class=\"dataframe\">\n",
              "  <thead>\n",
              "    <tr style=\"text-align: right;\">\n",
              "      <th></th>\n",
              "      <th>Names</th>\n",
              "      <th>Salary</th>\n",
              "      <th>YearsEmployed</th>\n",
              "      <th>Age</th>\n",
              "      <th>YearsToRetirement</th>\n",
              "    </tr>\n",
              "  </thead>\n",
              "  <tbody>\n",
              "    <tr>\n",
              "      <th>0</th>\n",
              "      <td>Bob</td>\n",
              "      <td>85657</td>\n",
              "      <td>5</td>\n",
              "      <td>35</td>\n",
              "      <td>32</td>\n",
              "    </tr>\n",
              "    <tr>\n",
              "      <th>1</th>\n",
              "      <td>Susan</td>\n",
              "      <td>56220</td>\n",
              "      <td>8</td>\n",
              "      <td>48</td>\n",
              "      <td>19</td>\n",
              "    </tr>\n",
              "    <tr>\n",
              "      <th>2</th>\n",
              "      <td>Greg</td>\n",
              "      <td>75879</td>\n",
              "      <td>3</td>\n",
              "      <td>32</td>\n",
              "      <td>35</td>\n",
              "    </tr>\n",
              "    <tr>\n",
              "      <th>3</th>\n",
              "      <td>Corey</td>\n",
              "      <td>35447</td>\n",
              "      <td>6</td>\n",
              "      <td>51</td>\n",
              "      <td>16</td>\n",
              "    </tr>\n",
              "    <tr>\n",
              "      <th>4</th>\n",
              "      <td>Abbey</td>\n",
              "      <td>123541</td>\n",
              "      <td>16</td>\n",
              "      <td>45</td>\n",
              "      <td>22</td>\n",
              "    </tr>\n",
              "    <tr>\n",
              "      <th>5</th>\n",
              "      <td>Nora</td>\n",
              "      <td>77869</td>\n",
              "      <td>2</td>\n",
              "      <td>26</td>\n",
              "      <td>41</td>\n",
              "    </tr>\n",
              "  </tbody>\n",
              "</table>\n",
              "</div>"
            ],
            "text/plain": [
              "   Names  Salary  YearsEmployed  Age  YearsToRetirement\n",
              "0    Bob   85657              5   35                 32\n",
              "1  Susan   56220              8   48                 19\n",
              "2   Greg   75879              3   32                 35\n",
              "3  Corey   35447              6   51                 16\n",
              "4  Abbey  123541             16   45                 22\n",
              "5   Nora   77869              2   26                 41"
            ]
          },
          "metadata": {
            "tags": []
          },
          "execution_count": 5
        }
      ]
    },
    {
      "cell_type": "markdown",
      "metadata": {
        "id": "237oep_u0NBH",
        "colab_type": "text"
      },
      "source": [
        "### Restrict the dataframe to only those people that earn more than $36000 \n",
        "\n",
        "Call the new dataframe restrictDF"
      ]
    },
    {
      "cell_type": "code",
      "metadata": {
        "id": "Iw78v_db0ANY",
        "colab_type": "code",
        "outputId": "d9239fd9-cdcc-4711-9794-051b69b05b24",
        "colab": {
          "base_uri": "https://localhost:8080/",
          "height": 206
        }
      },
      "source": [
        "# Create your dataframe here.\n",
        "restrictDF = NewDataFrame[NewDataFrame['Salary'] > 36000]\n",
        "\n",
        "# View the dataframe\n",
        "restrictDF"
      ],
      "execution_count": 0,
      "outputs": [
        {
          "output_type": "execute_result",
          "data": {
            "text/html": [
              "<div>\n",
              "<style scoped>\n",
              "    .dataframe tbody tr th:only-of-type {\n",
              "        vertical-align: middle;\n",
              "    }\n",
              "\n",
              "    .dataframe tbody tr th {\n",
              "        vertical-align: top;\n",
              "    }\n",
              "\n",
              "    .dataframe thead th {\n",
              "        text-align: right;\n",
              "    }\n",
              "</style>\n",
              "<table border=\"1\" class=\"dataframe\">\n",
              "  <thead>\n",
              "    <tr style=\"text-align: right;\">\n",
              "      <th></th>\n",
              "      <th>Names</th>\n",
              "      <th>Salary</th>\n",
              "      <th>YearsEmployed</th>\n",
              "      <th>Age</th>\n",
              "      <th>YearsToRetirement</th>\n",
              "    </tr>\n",
              "  </thead>\n",
              "  <tbody>\n",
              "    <tr>\n",
              "      <th>0</th>\n",
              "      <td>Bob</td>\n",
              "      <td>85657</td>\n",
              "      <td>5</td>\n",
              "      <td>35</td>\n",
              "      <td>32</td>\n",
              "    </tr>\n",
              "    <tr>\n",
              "      <th>1</th>\n",
              "      <td>Susan</td>\n",
              "      <td>56220</td>\n",
              "      <td>8</td>\n",
              "      <td>48</td>\n",
              "      <td>19</td>\n",
              "    </tr>\n",
              "    <tr>\n",
              "      <th>2</th>\n",
              "      <td>Greg</td>\n",
              "      <td>75879</td>\n",
              "      <td>3</td>\n",
              "      <td>32</td>\n",
              "      <td>35</td>\n",
              "    </tr>\n",
              "    <tr>\n",
              "      <th>4</th>\n",
              "      <td>Abbey</td>\n",
              "      <td>123541</td>\n",
              "      <td>16</td>\n",
              "      <td>45</td>\n",
              "      <td>22</td>\n",
              "    </tr>\n",
              "    <tr>\n",
              "      <th>5</th>\n",
              "      <td>Nora</td>\n",
              "      <td>77869</td>\n",
              "      <td>2</td>\n",
              "      <td>26</td>\n",
              "      <td>41</td>\n",
              "    </tr>\n",
              "  </tbody>\n",
              "</table>\n",
              "</div>"
            ],
            "text/plain": [
              "   Names  Salary  YearsEmployed  Age  YearsToRetirement\n",
              "0    Bob   85657              5   35                 32\n",
              "1  Susan   56220              8   48                 19\n",
              "2   Greg   75879              3   32                 35\n",
              "4  Abbey  123541             16   45                 22\n",
              "5   Nora   77869              2   26                 41"
            ]
          },
          "metadata": {
            "tags": []
          },
          "execution_count": 6
        }
      ]
    },
    {
      "cell_type": "markdown",
      "metadata": {
        "id": "oziBgGs11gdO",
        "colab_type": "text"
      },
      "source": [
        "Further restrict the restrictDF dataframe to only the people that earn less than $100,000\n",
        "Note: Rather than starting with NewDataFrame, begin with the newly created restrictDF and simply make additional restrictions."
      ]
    },
    {
      "cell_type": "code",
      "metadata": {
        "id": "b0m3TpO41Z6s",
        "colab_type": "code",
        "outputId": "26e77e95-0069-439e-90c5-29675f36c1e4",
        "colab": {
          "base_uri": "https://localhost:8080/",
          "height": 34
        }
      },
      "source": [
        "# Create your dataframe here.\n",
        "restrictDF = restrictDF[restrictDF['Salary'] < 100000]\n",
        "\n",
        "# Use .shape to determine the # of rows and columns in the dataframe.\n",
        "restrictDF.shape"
      ],
      "execution_count": 0,
      "outputs": [
        {
          "output_type": "execute_result",
          "data": {
            "text/plain": [
              "(4, 5)"
            ]
          },
          "metadata": {
            "tags": []
          },
          "execution_count": 7
        }
      ]
    },
    {
      "cell_type": "markdown",
      "metadata": {
        "id": "9yWLnt_F2X2-",
        "colab_type": "text"
      },
      "source": [
        "Note that we can combine the two restrictions in the previous cells by using the '&' symbol to represent AND in the following way:"
      ]
    },
    {
      "cell_type": "code",
      "metadata": {
        "id": "i5jOmTh12HGD",
        "colab_type": "code",
        "outputId": "9f24d0c4-1265-4f19-ce22-4c6783dd9a62",
        "colab": {
          "base_uri": "https://localhost:8080/",
          "height": 175
        }
      },
      "source": [
        "# Create your dataframe here.\n",
        "restrictDF = NewDataFrame[(NewDataFrame['Salary'] < 100000) & (NewDataFrame['Salary'] > 36000)]\n",
        "\n",
        "# View the dataframe\n",
        "restrictDF"
      ],
      "execution_count": 0,
      "outputs": [
        {
          "output_type": "execute_result",
          "data": {
            "text/html": [
              "<div>\n",
              "<style scoped>\n",
              "    .dataframe tbody tr th:only-of-type {\n",
              "        vertical-align: middle;\n",
              "    }\n",
              "\n",
              "    .dataframe tbody tr th {\n",
              "        vertical-align: top;\n",
              "    }\n",
              "\n",
              "    .dataframe thead th {\n",
              "        text-align: right;\n",
              "    }\n",
              "</style>\n",
              "<table border=\"1\" class=\"dataframe\">\n",
              "  <thead>\n",
              "    <tr style=\"text-align: right;\">\n",
              "      <th></th>\n",
              "      <th>Names</th>\n",
              "      <th>Salary</th>\n",
              "      <th>YearsEmployed</th>\n",
              "      <th>Age</th>\n",
              "      <th>YearsToRetirement</th>\n",
              "    </tr>\n",
              "  </thead>\n",
              "  <tbody>\n",
              "    <tr>\n",
              "      <th>0</th>\n",
              "      <td>Bob</td>\n",
              "      <td>85657</td>\n",
              "      <td>5</td>\n",
              "      <td>35</td>\n",
              "      <td>32</td>\n",
              "    </tr>\n",
              "    <tr>\n",
              "      <th>1</th>\n",
              "      <td>Susan</td>\n",
              "      <td>56220</td>\n",
              "      <td>8</td>\n",
              "      <td>48</td>\n",
              "      <td>19</td>\n",
              "    </tr>\n",
              "    <tr>\n",
              "      <th>2</th>\n",
              "      <td>Greg</td>\n",
              "      <td>75879</td>\n",
              "      <td>3</td>\n",
              "      <td>32</td>\n",
              "      <td>35</td>\n",
              "    </tr>\n",
              "    <tr>\n",
              "      <th>5</th>\n",
              "      <td>Nora</td>\n",
              "      <td>77869</td>\n",
              "      <td>2</td>\n",
              "      <td>26</td>\n",
              "      <td>41</td>\n",
              "    </tr>\n",
              "  </tbody>\n",
              "</table>\n",
              "</div>"
            ],
            "text/plain": [
              "   Names  Salary  YearsEmployed  Age  YearsToRetirement\n",
              "0    Bob   85657              5   35                 32\n",
              "1  Susan   56220              8   48                 19\n",
              "2   Greg   75879              3   32                 35\n",
              "5   Nora   77869              2   26                 41"
            ]
          },
          "metadata": {
            "tags": []
          },
          "execution_count": 8
        }
      ]
    },
    {
      "cell_type": "markdown",
      "metadata": {
        "id": "YIBY8wg44rVv",
        "colab_type": "text"
      },
      "source": [
        "In the cell below, write the code that will create a dataframe (restrictDF) that includes only those people with salaries between \\$36,000 and \\$100,000 ... and with more than 2 years on the job."
      ]
    },
    {
      "cell_type": "code",
      "metadata": {
        "id": "eoGDiTgC2zcb",
        "colab_type": "code",
        "outputId": "d59b7a20-b8c0-4e53-f38b-5cc06ca36964",
        "colab": {
          "base_uri": "https://localhost:8080/",
          "height": 143
        }
      },
      "source": [
        "# Create your dataframe here.\n",
        "restrictDF = NewDataFrame[(NewDataFrame['Salary'] < 100000) & (NewDataFrame['Salary'] > 36000) & (NewDataFrame['YearsEmployed'] > 2)]\n",
        "\n",
        "# View the dataframe\n",
        "restrictDF"
      ],
      "execution_count": 0,
      "outputs": [
        {
          "output_type": "execute_result",
          "data": {
            "text/html": [
              "<div>\n",
              "<style scoped>\n",
              "    .dataframe tbody tr th:only-of-type {\n",
              "        vertical-align: middle;\n",
              "    }\n",
              "\n",
              "    .dataframe tbody tr th {\n",
              "        vertical-align: top;\n",
              "    }\n",
              "\n",
              "    .dataframe thead th {\n",
              "        text-align: right;\n",
              "    }\n",
              "</style>\n",
              "<table border=\"1\" class=\"dataframe\">\n",
              "  <thead>\n",
              "    <tr style=\"text-align: right;\">\n",
              "      <th></th>\n",
              "      <th>Names</th>\n",
              "      <th>Salary</th>\n",
              "      <th>YearsEmployed</th>\n",
              "      <th>Age</th>\n",
              "      <th>YearsToRetirement</th>\n",
              "    </tr>\n",
              "  </thead>\n",
              "  <tbody>\n",
              "    <tr>\n",
              "      <th>0</th>\n",
              "      <td>Bob</td>\n",
              "      <td>85657</td>\n",
              "      <td>5</td>\n",
              "      <td>35</td>\n",
              "      <td>32</td>\n",
              "    </tr>\n",
              "    <tr>\n",
              "      <th>1</th>\n",
              "      <td>Susan</td>\n",
              "      <td>56220</td>\n",
              "      <td>8</td>\n",
              "      <td>48</td>\n",
              "      <td>19</td>\n",
              "    </tr>\n",
              "    <tr>\n",
              "      <th>2</th>\n",
              "      <td>Greg</td>\n",
              "      <td>75879</td>\n",
              "      <td>3</td>\n",
              "      <td>32</td>\n",
              "      <td>35</td>\n",
              "    </tr>\n",
              "  </tbody>\n",
              "</table>\n",
              "</div>"
            ],
            "text/plain": [
              "   Names  Salary  YearsEmployed  Age  YearsToRetirement\n",
              "0    Bob   85657              5   35                 32\n",
              "1  Susan   56220              8   48                 19\n",
              "2   Greg   75879              3   32                 35"
            ]
          },
          "metadata": {
            "tags": []
          },
          "execution_count": 9
        }
      ]
    },
    {
      "cell_type": "markdown",
      "metadata": {
        "id": "ZQv-AoTr5qVV",
        "colab_type": "text"
      },
      "source": [
        "### Now let's move back to the Nashville Housing data. You have a budget/target of \\$150K-$200K to spend on a house with a need for at least 1800 sq ft of living space."
      ]
    },
    {
      "cell_type": "code",
      "metadata": {
        "id": "GkkTo_hM-kH1",
        "colab_type": "code",
        "outputId": "410f6d47-eaaa-45b0-ac5e-ef75a232e872",
        "colab": {
          "base_uri": "https://localhost:8080/",
          "height": 206
        }
      },
      "source": [
        "# As a reminder, let's take a look at the head of the dataframe\n",
        "houses_2017.head()"
      ],
      "execution_count": 0,
      "outputs": [
        {
          "output_type": "execute_result",
          "data": {
            "text/html": [
              "<div>\n",
              "<style scoped>\n",
              "    .dataframe tbody tr th:only-of-type {\n",
              "        vertical-align: middle;\n",
              "    }\n",
              "\n",
              "    .dataframe tbody tr th {\n",
              "        vertical-align: top;\n",
              "    }\n",
              "\n",
              "    .dataframe thead th {\n",
              "        text-align: right;\n",
              "    }\n",
              "</style>\n",
              "<table border=\"1\" class=\"dataframe\">\n",
              "  <thead>\n",
              "    <tr style=\"text-align: right;\">\n",
              "      <th></th>\n",
              "      <th>APN</th>\n",
              "      <th>DistrictCode</th>\n",
              "      <th>CouncilDistrict</th>\n",
              "      <th>AddressFullAddress</th>\n",
              "      <th>AddressCity</th>\n",
              "      <th>AddressPostalCode</th>\n",
              "      <th>LAND</th>\n",
              "      <th>IMPR</th>\n",
              "      <th>TOTALAPPR</th>\n",
              "      <th>TOTALASSD</th>\n",
              "      <th>FinishedArea</th>\n",
              "    </tr>\n",
              "  </thead>\n",
              "  <tbody>\n",
              "    <tr>\n",
              "      <th>0</th>\n",
              "      <td>103020C01300CO</td>\n",
              "      <td>USD</td>\n",
              "      <td>24</td>\n",
              "      <td>276 WHITE BRIDGE PIKE 13</td>\n",
              "      <td>NASHVILLE</td>\n",
              "      <td>37209</td>\n",
              "      <td>10000</td>\n",
              "      <td>39600</td>\n",
              "      <td>49600</td>\n",
              "      <td>19840</td>\n",
              "      <td>567.0</td>\n",
              "    </tr>\n",
              "    <tr>\n",
              "      <th>1</th>\n",
              "      <td>103020C01400CO</td>\n",
              "      <td>USD</td>\n",
              "      <td>24</td>\n",
              "      <td>276 WHITE BRIDGE PIKE 14</td>\n",
              "      <td>NASHVILLE</td>\n",
              "      <td>37209</td>\n",
              "      <td>10000</td>\n",
              "      <td>45000</td>\n",
              "      <td>55000</td>\n",
              "      <td>13750</td>\n",
              "      <td>567.0</td>\n",
              "    </tr>\n",
              "    <tr>\n",
              "      <th>2</th>\n",
              "      <td>103020C01500CO</td>\n",
              "      <td>USD</td>\n",
              "      <td>24</td>\n",
              "      <td>276 WHITE BRIDGE PIKE 15</td>\n",
              "      <td>NASHVILLE</td>\n",
              "      <td>37209</td>\n",
              "      <td>10000</td>\n",
              "      <td>39600</td>\n",
              "      <td>49600</td>\n",
              "      <td>19840</td>\n",
              "      <td>567.0</td>\n",
              "    </tr>\n",
              "    <tr>\n",
              "      <th>3</th>\n",
              "      <td>103020C01600CO</td>\n",
              "      <td>USD</td>\n",
              "      <td>24</td>\n",
              "      <td>276 WHITE BRIDGE PIKE 16</td>\n",
              "      <td>NASHVILLE</td>\n",
              "      <td>37209</td>\n",
              "      <td>10000</td>\n",
              "      <td>45000</td>\n",
              "      <td>55000</td>\n",
              "      <td>13750</td>\n",
              "      <td>567.0</td>\n",
              "    </tr>\n",
              "    <tr>\n",
              "      <th>4</th>\n",
              "      <td>103020C01700CO</td>\n",
              "      <td>USD</td>\n",
              "      <td>24</td>\n",
              "      <td>276 WHITE BRIDGE PIKE 17</td>\n",
              "      <td>NASHVILLE</td>\n",
              "      <td>37209</td>\n",
              "      <td>10000</td>\n",
              "      <td>45000</td>\n",
              "      <td>55000</td>\n",
              "      <td>22000</td>\n",
              "      <td>567.0</td>\n",
              "    </tr>\n",
              "  </tbody>\n",
              "</table>\n",
              "</div>"
            ],
            "text/plain": [
              "              APN DistrictCode  ...  TOTALASSD FinishedArea\n",
              "0  103020C01300CO         USD   ...      19840        567.0\n",
              "1  103020C01400CO         USD   ...      13750        567.0\n",
              "2  103020C01500CO         USD   ...      19840        567.0\n",
              "3  103020C01600CO         USD   ...      13750        567.0\n",
              "4  103020C01700CO         USD   ...      22000        567.0\n",
              "\n",
              "[5 rows x 11 columns]"
            ]
          },
          "metadata": {
            "tags": []
          },
          "execution_count": 10
        }
      ]
    },
    {
      "cell_type": "markdown",
      "metadata": {
        "id": "OiNkWZhv8kKm",
        "colab_type": "text"
      },
      "source": [
        "### 1) Restrict the houses_2017 dataframe to only the houses that have an appraisal of no more than $200,000\n",
        "Call the new dataframe afford_houses_2017"
      ]
    },
    {
      "cell_type": "code",
      "metadata": {
        "id": "A72_xt5t8pHu",
        "colab_type": "code",
        "outputId": "b150b419-6f0a-4013-b0a0-9d5543953b15",
        "colab": {
          "base_uri": "https://localhost:8080/",
          "height": 34
        }
      },
      "source": [
        "# Create your dataframe here.\n",
        "afford_houses_2017 = houses_2017[houses_2017['TOTALAPPR'] <= 200000]\n",
        "\n",
        "# Use .shape to determine how many houses in Davidson County match this restriction.\n",
        "afford_houses_2017.shape"
      ],
      "execution_count": 0,
      "outputs": [
        {
          "output_type": "execute_result",
          "data": {
            "text/plain": [
              "(92813, 11)"
            ]
          },
          "metadata": {
            "tags": []
          },
          "execution_count": 12
        }
      ]
    },
    {
      "cell_type": "markdown",
      "metadata": {
        "id": "u3shGRyo82SV",
        "colab_type": "text"
      },
      "source": [
        "### 2) Further restrict the afford_houses_2017 dataframe to only the houses that have an appraisal of at least $150,000\n",
        "Note: Rather than starting with houses_2017, begin with the newly created afford_houses_2017 and simply make additional restrictions."
      ]
    },
    {
      "cell_type": "code",
      "metadata": {
        "id": "ulKTVgUq836R",
        "colab_type": "code",
        "outputId": "0851602a-69d6-430f-850d-e5f6a311e59a",
        "colab": {
          "base_uri": "https://localhost:8080/",
          "height": 34
        }
      },
      "source": [
        "# Edit your dataframe here.\n",
        "afford_houses_2017 = afford_houses_2017[afford_houses_2017['TOTALAPPR'] >= 150000]\n",
        "\n",
        "# Use .shape to determine how many houses in Davidson County match this restriction.\n",
        "afford_houses_2017.shape"
      ],
      "execution_count": 0,
      "outputs": [
        {
          "output_type": "execute_result",
          "data": {
            "text/plain": [
              "(43319, 11)"
            ]
          },
          "metadata": {
            "tags": []
          },
          "execution_count": 13
        }
      ]
    },
    {
      "cell_type": "markdown",
      "metadata": {
        "id": "pEB4uOyZ9MXF",
        "colab_type": "text"
      },
      "source": [
        "### 3) Combine the two restrictions in the previous cells by using the '&' symbol to represent AND in the cell below:"
      ]
    },
    {
      "cell_type": "code",
      "metadata": {
        "id": "vZGYOSyV9WN8",
        "colab_type": "code",
        "outputId": "d45737f8-eb31-4775-c9e9-c36480abc7ed",
        "colab": {
          "base_uri": "https://localhost:8080/",
          "height": 34
        }
      },
      "source": [
        "# Create your dataframe here.\n",
        "afford_houses_2017 = houses_2017[(houses_2017['TOTALAPPR'] <= 200000) & (houses_2017['TOTALAPPR'] >= 150000)]\n",
        "\n",
        "# Use .shape to determine how many houses in Davidson County match this restriction.\n",
        "afford_houses_2017.shape"
      ],
      "execution_count": 0,
      "outputs": [
        {
          "output_type": "execute_result",
          "data": {
            "text/plain": [
              "(43319, 11)"
            ]
          },
          "metadata": {
            "tags": []
          },
          "execution_count": 16
        }
      ]
    },
    {
      "cell_type": "markdown",
      "metadata": {
        "id": "CEja6ssR9inl",
        "colab_type": "text"
      },
      "source": [
        "### 4) In the cell below, write the code that will create a dataframe (afford_houses_2017) that includes only houses with appraisals between \\$150K-$200K with finished areas of at least 1800 square feet"
      ]
    },
    {
      "cell_type": "code",
      "metadata": {
        "id": "bZ8ZGMBB9mfb",
        "colab_type": "code",
        "outputId": "56491624-b095-4be0-938d-d96211b373f6",
        "colab": {
          "base_uri": "https://localhost:8080/",
          "height": 206
        }
      },
      "source": [
        "# Create your dataframe here.\n",
        "afford_houses_2017 = houses_2017[(houses_2017['TOTALAPPR'] <= 200000) & (houses_2017['TOTALAPPR'] >= 150000) & (houses_2017['FinishedArea']>=1800)]\n",
        "\n",
        "# Use .head() to view the first 5 rows of your dataframe\n",
        "afford_houses_2017.head()"
      ],
      "execution_count": 0,
      "outputs": [
        {
          "output_type": "execute_result",
          "data": {
            "text/html": [
              "<div>\n",
              "<style scoped>\n",
              "    .dataframe tbody tr th:only-of-type {\n",
              "        vertical-align: middle;\n",
              "    }\n",
              "\n",
              "    .dataframe tbody tr th {\n",
              "        vertical-align: top;\n",
              "    }\n",
              "\n",
              "    .dataframe thead th {\n",
              "        text-align: right;\n",
              "    }\n",
              "</style>\n",
              "<table border=\"1\" class=\"dataframe\">\n",
              "  <thead>\n",
              "    <tr style=\"text-align: right;\">\n",
              "      <th></th>\n",
              "      <th>APN</th>\n",
              "      <th>DistrictCode</th>\n",
              "      <th>CouncilDistrict</th>\n",
              "      <th>AddressFullAddress</th>\n",
              "      <th>AddressCity</th>\n",
              "      <th>AddressPostalCode</th>\n",
              "      <th>LAND</th>\n",
              "      <th>IMPR</th>\n",
              "      <th>TOTALAPPR</th>\n",
              "      <th>TOTALASSD</th>\n",
              "      <th>FinishedArea</th>\n",
              "    </tr>\n",
              "  </thead>\n",
              "  <tbody>\n",
              "    <tr>\n",
              "      <th>60</th>\n",
              "      <td>00200003000001</td>\n",
              "      <td>RT</td>\n",
              "      <td>10</td>\n",
              "      <td>156 B EAST END RD</td>\n",
              "      <td>GOODLETTSVILLE</td>\n",
              "      <td>37072</td>\n",
              "      <td>35000</td>\n",
              "      <td>154800</td>\n",
              "      <td>189800</td>\n",
              "      <td>47450</td>\n",
              "      <td>1830.0</td>\n",
              "    </tr>\n",
              "    <tr>\n",
              "      <th>64</th>\n",
              "      <td>00200007400</td>\n",
              "      <td>GSD</td>\n",
              "      <td>10</td>\n",
              "      <td>1944 SPRINGFIELD HWY</td>\n",
              "      <td>GOODLETTSVILLE</td>\n",
              "      <td>37072</td>\n",
              "      <td>53500</td>\n",
              "      <td>108200</td>\n",
              "      <td>161700</td>\n",
              "      <td>40425</td>\n",
              "      <td>2380.0</td>\n",
              "    </tr>\n",
              "    <tr>\n",
              "      <th>70</th>\n",
              "      <td>00300001200</td>\n",
              "      <td>GSD</td>\n",
              "      <td>10</td>\n",
              "      <td>2512 TINNIN RD</td>\n",
              "      <td>GOODLETTSVILLE</td>\n",
              "      <td>37072</td>\n",
              "      <td>45000</td>\n",
              "      <td>113000</td>\n",
              "      <td>158000</td>\n",
              "      <td>39500</td>\n",
              "      <td>1834.0</td>\n",
              "    </tr>\n",
              "    <tr>\n",
              "      <th>73</th>\n",
              "      <td>00300001700</td>\n",
              "      <td>GSD</td>\n",
              "      <td>10</td>\n",
              "      <td>2430 TINNIN RD</td>\n",
              "      <td>GOODLETTSVILLE</td>\n",
              "      <td>37072</td>\n",
              "      <td>25000</td>\n",
              "      <td>150100</td>\n",
              "      <td>175100</td>\n",
              "      <td>43775</td>\n",
              "      <td>2237.0</td>\n",
              "    </tr>\n",
              "    <tr>\n",
              "      <th>76</th>\n",
              "      <td>00300002801</td>\n",
              "      <td>GSD</td>\n",
              "      <td>10</td>\n",
              "      <td>2559 TINNIN RD</td>\n",
              "      <td>GOODLETTSVILLE</td>\n",
              "      <td>37072</td>\n",
              "      <td>39800</td>\n",
              "      <td>146900</td>\n",
              "      <td>186700</td>\n",
              "      <td>46675</td>\n",
              "      <td>1860.0</td>\n",
              "    </tr>\n",
              "  </tbody>\n",
              "</table>\n",
              "</div>"
            ],
            "text/plain": [
              "               APN DistrictCode  ...  TOTALASSD FinishedArea\n",
              "60  00200003000001         RT    ...      47450       1830.0\n",
              "64     00200007400         GSD   ...      40425       2380.0\n",
              "70     00300001200         GSD   ...      39500       1834.0\n",
              "73     00300001700         GSD   ...      43775       2237.0\n",
              "76     00300002801         GSD   ...      46675       1860.0\n",
              "\n",
              "[5 rows x 11 columns]"
            ]
          },
          "metadata": {
            "tags": []
          },
          "execution_count": 18
        }
      ]
    },
    {
      "cell_type": "markdown",
      "metadata": {
        "id": "5sQNu_abBaU0",
        "colab_type": "text"
      },
      "source": [
        "### In the following cell, we will determine the number of affordable houses that are in each AddressCity. "
      ]
    },
    {
      "cell_type": "code",
      "metadata": {
        "id": "Js5SdE7MB4nM",
        "colab_type": "code",
        "outputId": "5ce556c1-effe-4937-83c8-774dfa557ca1",
        "colab": {
          "base_uri": "https://localhost:8080/",
          "height": 434
        }
      },
      "source": [
        "# Note: We are gathering the .value_counts() of each city \n",
        "# in the 'AddressCity' column of afford_houses_2017\n",
        "# and we are listing them in the order provided \n",
        "# by the unique values in the 'AddressCity' column of houses_2017\n",
        "\n",
        "# Finally, we are naming this object affordHousesCount\n",
        "# so that we can use it later\n",
        "\n",
        "affordHousesCount = afford_houses_2017['AddressCity'].value_counts().loc[houses_2017['AddressCity'].unique()]\n",
        "affordHousesCount"
      ],
      "execution_count": 0,
      "outputs": [
        {
          "output_type": "stream",
          "text": [
            "/usr/local/lib/python3.6/dist-packages/ipykernel_launcher.py:2: FutureWarning: \n",
            "Passing list-likes to .loc or [] with any missing label will raise\n",
            "KeyError in the future, you can use .reindex() as an alternative.\n",
            "\n",
            "See the documentation here:\n",
            "https://pandas.pydata.org/pandas-docs/stable/user_guide/indexing.html#deprecate-loc-reindex-listlike\n",
            "  \n"
          ],
          "name": "stderr"
        },
        {
          "output_type": "execute_result",
          "data": {
            "text/plain": [
              "NASHVILLE         3751.0\n",
              "GOODLETTSVILLE     407.0\n",
              "JOELTON             97.0\n",
              "WHITES CREEK       117.0\n",
              "MADISON            681.0\n",
              "OLD HICKORY        194.0\n",
              "ASHLAND CITY         8.0\n",
              "HERMITAGE          825.0\n",
              "PEGRAM               6.0\n",
              "MOUNT JULIET         1.0\n",
              "FRANKLIN             NaN\n",
              "ANTIOCH           3191.0\n",
              "BELLEVUE             NaN\n",
              "BRENTWOOD            2.0\n",
              "LAVERGNE             NaN\n",
              "NOLENSVILLE          4.0\n",
              "Name: AddressCity, dtype: float64"
            ]
          },
          "metadata": {
            "tags": []
          },
          "execution_count": 19
        }
      ]
    },
    {
      "cell_type": "markdown",
      "metadata": {
        "id": "m6LQNGmKEG4-",
        "colab_type": "text"
      },
      "source": [
        "### 5) In the following cell, determine the number of houses that are in each AddressCity in houses_2017 (rather than afford_houses_2017).\n",
        "\n",
        "Name this object housesCount"
      ]
    },
    {
      "cell_type": "code",
      "metadata": {
        "id": "m-QWVCg4CBg4",
        "colab_type": "code",
        "outputId": "20100fad-64a9-45cc-baee-00d6027c09b5",
        "colab": {
          "base_uri": "https://localhost:8080/",
          "height": 312
        }
      },
      "source": [
        "# Note: Copy the code from the previous cell and make necessary changes\n",
        "housesCount =  houses_2017['AddressCity'].value_counts().loc[houses_2017['AddressCity'].unique()]\n",
        "housesCount"
      ],
      "execution_count": 0,
      "outputs": [
        {
          "output_type": "execute_result",
          "data": {
            "text/plain": [
              "NASHVILLE         134723\n",
              "GOODLETTSVILLE      4422\n",
              "JOELTON             1506\n",
              "WHITES CREEK        1238\n",
              "MADISON             9771\n",
              "OLD HICKORY         5380\n",
              "ASHLAND CITY         157\n",
              "HERMITAGE          10894\n",
              "PEGRAM               173\n",
              "MOUNT JULIET         266\n",
              "FRANKLIN              26\n",
              "ANTIOCH            22770\n",
              "BELLEVUE               2\n",
              "BRENTWOOD           4983\n",
              "LAVERGNE               3\n",
              "NOLENSVILLE          800\n",
              "Name: AddressCity, dtype: int64"
            ]
          },
          "metadata": {
            "tags": []
          },
          "execution_count": 21
        }
      ]
    },
    {
      "cell_type": "markdown",
      "metadata": {
        "id": "EQTFsUW0G08k",
        "colab_type": "text"
      },
      "source": [
        "### Note that housesCount and affordHousesCount are pandas series (soon to be columns)\n",
        "\n",
        "Create a dictionary named Columns as we did in preparation for building the NewDataFrame above."
      ]
    },
    {
      "cell_type": "code",
      "metadata": {
        "id": "qwMvlR1MG1Fd",
        "colab_type": "code",
        "outputId": "e5a6b90b-9c5a-42a0-8a43-41fef7d5ac6b",
        "colab": {
          "base_uri": "https://localhost:8080/",
          "height": 551
        }
      },
      "source": [
        "# Create a dictionary from affordHousesCount and housesCount\n",
        "\n",
        "Columns = {'HousesCount': housesCount, 'AffordableHousesCount': affordHousesCount}\n",
        "\n",
        "# Create a pandas dataframe built upon the dictionary named 'data' created above.\n",
        "ProjectDF = pd.DataFrame(Columns)\n",
        "ProjectDF"
      ],
      "execution_count": 0,
      "outputs": [
        {
          "output_type": "execute_result",
          "data": {
            "text/html": [
              "<div>\n",
              "<style scoped>\n",
              "    .dataframe tbody tr th:only-of-type {\n",
              "        vertical-align: middle;\n",
              "    }\n",
              "\n",
              "    .dataframe tbody tr th {\n",
              "        vertical-align: top;\n",
              "    }\n",
              "\n",
              "    .dataframe thead th {\n",
              "        text-align: right;\n",
              "    }\n",
              "</style>\n",
              "<table border=\"1\" class=\"dataframe\">\n",
              "  <thead>\n",
              "    <tr style=\"text-align: right;\">\n",
              "      <th></th>\n",
              "      <th>HousesCount</th>\n",
              "      <th>AffordableHousesCount</th>\n",
              "    </tr>\n",
              "  </thead>\n",
              "  <tbody>\n",
              "    <tr>\n",
              "      <th>NASHVILLE</th>\n",
              "      <td>134723</td>\n",
              "      <td>3751.0</td>\n",
              "    </tr>\n",
              "    <tr>\n",
              "      <th>GOODLETTSVILLE</th>\n",
              "      <td>4422</td>\n",
              "      <td>407.0</td>\n",
              "    </tr>\n",
              "    <tr>\n",
              "      <th>JOELTON</th>\n",
              "      <td>1506</td>\n",
              "      <td>97.0</td>\n",
              "    </tr>\n",
              "    <tr>\n",
              "      <th>WHITES CREEK</th>\n",
              "      <td>1238</td>\n",
              "      <td>117.0</td>\n",
              "    </tr>\n",
              "    <tr>\n",
              "      <th>MADISON</th>\n",
              "      <td>9771</td>\n",
              "      <td>681.0</td>\n",
              "    </tr>\n",
              "    <tr>\n",
              "      <th>OLD HICKORY</th>\n",
              "      <td>5380</td>\n",
              "      <td>194.0</td>\n",
              "    </tr>\n",
              "    <tr>\n",
              "      <th>ASHLAND CITY</th>\n",
              "      <td>157</td>\n",
              "      <td>8.0</td>\n",
              "    </tr>\n",
              "    <tr>\n",
              "      <th>HERMITAGE</th>\n",
              "      <td>10894</td>\n",
              "      <td>825.0</td>\n",
              "    </tr>\n",
              "    <tr>\n",
              "      <th>PEGRAM</th>\n",
              "      <td>173</td>\n",
              "      <td>6.0</td>\n",
              "    </tr>\n",
              "    <tr>\n",
              "      <th>MOUNT JULIET</th>\n",
              "      <td>266</td>\n",
              "      <td>1.0</td>\n",
              "    </tr>\n",
              "    <tr>\n",
              "      <th>FRANKLIN</th>\n",
              "      <td>26</td>\n",
              "      <td>NaN</td>\n",
              "    </tr>\n",
              "    <tr>\n",
              "      <th>ANTIOCH</th>\n",
              "      <td>22770</td>\n",
              "      <td>3191.0</td>\n",
              "    </tr>\n",
              "    <tr>\n",
              "      <th>BELLEVUE</th>\n",
              "      <td>2</td>\n",
              "      <td>NaN</td>\n",
              "    </tr>\n",
              "    <tr>\n",
              "      <th>BRENTWOOD</th>\n",
              "      <td>4983</td>\n",
              "      <td>2.0</td>\n",
              "    </tr>\n",
              "    <tr>\n",
              "      <th>LAVERGNE</th>\n",
              "      <td>3</td>\n",
              "      <td>NaN</td>\n",
              "    </tr>\n",
              "    <tr>\n",
              "      <th>NOLENSVILLE</th>\n",
              "      <td>800</td>\n",
              "      <td>4.0</td>\n",
              "    </tr>\n",
              "  </tbody>\n",
              "</table>\n",
              "</div>"
            ],
            "text/plain": [
              "                HousesCount  AffordableHousesCount\n",
              "NASHVILLE            134723                 3751.0\n",
              "GOODLETTSVILLE         4422                  407.0\n",
              "JOELTON                1506                   97.0\n",
              "WHITES CREEK           1238                  117.0\n",
              "MADISON                9771                  681.0\n",
              "OLD HICKORY            5380                  194.0\n",
              "ASHLAND CITY            157                    8.0\n",
              "HERMITAGE             10894                  825.0\n",
              "PEGRAM                  173                    6.0\n",
              "MOUNT JULIET            266                    1.0\n",
              "FRANKLIN                 26                    NaN\n",
              "ANTIOCH               22770                 3191.0\n",
              "BELLEVUE                  2                    NaN\n",
              "BRENTWOOD              4983                    2.0\n",
              "LAVERGNE                  3                    NaN\n",
              "NOLENSVILLE             800                    4.0"
            ]
          },
          "metadata": {
            "tags": []
          },
          "execution_count": 22
        }
      ]
    },
    {
      "cell_type": "markdown",
      "metadata": {
        "id": "UQJlxLBFFFIk",
        "colab_type": "text"
      },
      "source": [
        "### 6) In the following cell, create a new column named 'AffordPct' by dividing the 'AffordableHousesCount' column by the 'HousesCount' column and multiplying by 100."
      ]
    },
    {
      "cell_type": "code",
      "metadata": {
        "id": "EYw_Q7NnFFUU",
        "colab_type": "code",
        "outputId": "335a0ec1-b7ba-4795-ceb8-564056c54068",
        "colab": {
          "base_uri": "https://localhost:8080/",
          "height": 551
        }
      },
      "source": [
        "ProjectDF['AffordPct'] = affordHousesCount/housesCount * 100\n",
        "ProjectDF"
      ],
      "execution_count": 0,
      "outputs": [
        {
          "output_type": "execute_result",
          "data": {
            "text/html": [
              "<div>\n",
              "<style scoped>\n",
              "    .dataframe tbody tr th:only-of-type {\n",
              "        vertical-align: middle;\n",
              "    }\n",
              "\n",
              "    .dataframe tbody tr th {\n",
              "        vertical-align: top;\n",
              "    }\n",
              "\n",
              "    .dataframe thead th {\n",
              "        text-align: right;\n",
              "    }\n",
              "</style>\n",
              "<table border=\"1\" class=\"dataframe\">\n",
              "  <thead>\n",
              "    <tr style=\"text-align: right;\">\n",
              "      <th></th>\n",
              "      <th>HousesCount</th>\n",
              "      <th>AffordableHousesCount</th>\n",
              "      <th>AffordPct</th>\n",
              "    </tr>\n",
              "  </thead>\n",
              "  <tbody>\n",
              "    <tr>\n",
              "      <th>NASHVILLE</th>\n",
              "      <td>134723</td>\n",
              "      <td>3751.0</td>\n",
              "      <td>2.784231</td>\n",
              "    </tr>\n",
              "    <tr>\n",
              "      <th>GOODLETTSVILLE</th>\n",
              "      <td>4422</td>\n",
              "      <td>407.0</td>\n",
              "      <td>9.203980</td>\n",
              "    </tr>\n",
              "    <tr>\n",
              "      <th>JOELTON</th>\n",
              "      <td>1506</td>\n",
              "      <td>97.0</td>\n",
              "      <td>6.440903</td>\n",
              "    </tr>\n",
              "    <tr>\n",
              "      <th>WHITES CREEK</th>\n",
              "      <td>1238</td>\n",
              "      <td>117.0</td>\n",
              "      <td>9.450727</td>\n",
              "    </tr>\n",
              "    <tr>\n",
              "      <th>MADISON</th>\n",
              "      <td>9771</td>\n",
              "      <td>681.0</td>\n",
              "      <td>6.969604</td>\n",
              "    </tr>\n",
              "    <tr>\n",
              "      <th>OLD HICKORY</th>\n",
              "      <td>5380</td>\n",
              "      <td>194.0</td>\n",
              "      <td>3.605948</td>\n",
              "    </tr>\n",
              "    <tr>\n",
              "      <th>ASHLAND CITY</th>\n",
              "      <td>157</td>\n",
              "      <td>8.0</td>\n",
              "      <td>5.095541</td>\n",
              "    </tr>\n",
              "    <tr>\n",
              "      <th>HERMITAGE</th>\n",
              "      <td>10894</td>\n",
              "      <td>825.0</td>\n",
              "      <td>7.572976</td>\n",
              "    </tr>\n",
              "    <tr>\n",
              "      <th>PEGRAM</th>\n",
              "      <td>173</td>\n",
              "      <td>6.0</td>\n",
              "      <td>3.468208</td>\n",
              "    </tr>\n",
              "    <tr>\n",
              "      <th>MOUNT JULIET</th>\n",
              "      <td>266</td>\n",
              "      <td>1.0</td>\n",
              "      <td>0.375940</td>\n",
              "    </tr>\n",
              "    <tr>\n",
              "      <th>FRANKLIN</th>\n",
              "      <td>26</td>\n",
              "      <td>NaN</td>\n",
              "      <td>NaN</td>\n",
              "    </tr>\n",
              "    <tr>\n",
              "      <th>ANTIOCH</th>\n",
              "      <td>22770</td>\n",
              "      <td>3191.0</td>\n",
              "      <td>14.014054</td>\n",
              "    </tr>\n",
              "    <tr>\n",
              "      <th>BELLEVUE</th>\n",
              "      <td>2</td>\n",
              "      <td>NaN</td>\n",
              "      <td>NaN</td>\n",
              "    </tr>\n",
              "    <tr>\n",
              "      <th>BRENTWOOD</th>\n",
              "      <td>4983</td>\n",
              "      <td>2.0</td>\n",
              "      <td>0.040136</td>\n",
              "    </tr>\n",
              "    <tr>\n",
              "      <th>LAVERGNE</th>\n",
              "      <td>3</td>\n",
              "      <td>NaN</td>\n",
              "      <td>NaN</td>\n",
              "    </tr>\n",
              "    <tr>\n",
              "      <th>NOLENSVILLE</th>\n",
              "      <td>800</td>\n",
              "      <td>4.0</td>\n",
              "      <td>0.500000</td>\n",
              "    </tr>\n",
              "  </tbody>\n",
              "</table>\n",
              "</div>"
            ],
            "text/plain": [
              "                HousesCount  AffordableHousesCount  AffordPct\n",
              "NASHVILLE            134723                 3751.0   2.784231\n",
              "GOODLETTSVILLE         4422                  407.0   9.203980\n",
              "JOELTON                1506                   97.0   6.440903\n",
              "WHITES CREEK           1238                  117.0   9.450727\n",
              "MADISON                9771                  681.0   6.969604\n",
              "OLD HICKORY            5380                  194.0   3.605948\n",
              "ASHLAND CITY            157                    8.0   5.095541\n",
              "HERMITAGE             10894                  825.0   7.572976\n",
              "PEGRAM                  173                    6.0   3.468208\n",
              "MOUNT JULIET            266                    1.0   0.375940\n",
              "FRANKLIN                 26                    NaN        NaN\n",
              "ANTIOCH               22770                 3191.0  14.014054\n",
              "BELLEVUE                  2                    NaN        NaN\n",
              "BRENTWOOD              4983                    2.0   0.040136\n",
              "LAVERGNE                  3                    NaN        NaN\n",
              "NOLENSVILLE             800                    4.0   0.500000"
            ]
          },
          "metadata": {
            "tags": []
          },
          "execution_count": 23
        }
      ]
    }
  ]
}