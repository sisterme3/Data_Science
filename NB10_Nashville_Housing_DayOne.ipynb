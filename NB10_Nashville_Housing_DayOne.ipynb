{
  "nbformat": 4,
  "nbformat_minor": 0,
  "metadata": {
    "colab": {
      "name": "NB10_Nashville_Housing_DayOne.ipynb",
      "provenance": [],
      "collapsed_sections": [],
      "include_colab_link": true
    },
    "kernelspec": {
      "display_name": "Python 3",
      "language": "python",
      "name": "python3"
    },
    "language_info": {
      "codemirror_mode": {
        "name": "ipython",
        "version": 3
      },
      "file_extension": ".py",
      "mimetype": "text/x-python",
      "name": "python",
      "nbconvert_exporter": "python",
      "pygments_lexer": "ipython3",
      "version": "3.7.4"
    }
  },
  "cells": [
    {
      "cell_type": "markdown",
      "metadata": {
        "id": "view-in-github",
        "colab_type": "text"
      },
      "source": [
        "<a href=\"https://colab.research.google.com/github/sisterme3/Data_Science/blob/master/NB10_Nashville_Housing_DayOne.ipynb\" target=\"_parent\"><img src=\"https://colab.research.google.com/assets/colab-badge.svg\" alt=\"Open In Colab\"/></a>"
      ]
    },
    {
      "cell_type": "markdown",
      "metadata": {
        "id": "mpQMGyLY-Hwd",
        "colab_type": "text"
      },
      "source": [
        "## Housing in Nashville/Davidson County"
      ]
    },
    {
      "cell_type": "code",
      "metadata": {
        "colab_type": "code",
        "id": "rDbl4parLQ-k",
        "outputId": "78eedc69-875e-414e-e14f-a7046f63009e",
        "colab": {
          "base_uri": "https://localhost:8080/",
          "height": 121
        }
      },
      "source": [
        "# Acquire the Nashville Housing Data from my GitHub repository\n",
        "! git clone https://github.com/acreeg/NashvilleHousingData.git\n"
      ],
      "execution_count": 0,
      "outputs": [
        {
          "output_type": "stream",
          "text": [
            "Cloning into 'NashvilleHousingData'...\n",
            "remote: Enumerating objects: 6, done.\u001b[K\n",
            "remote: Counting objects: 100% (6/6), done.\u001b[K\n",
            "remote: Compressing objects: 100% (6/6), done.\u001b[K\n",
            "remote: Total 6 (delta 2), reused 0 (delta 0), pack-reused 0\u001b[K\n",
            "Unpacking objects: 100% (6/6), done.\n"
          ],
          "name": "stdout"
        }
      ]
    },
    {
      "cell_type": "code",
      "metadata": {
        "colab_type": "code",
        "id": "8sTPd9qE1_Rp",
        "scrolled": false,
        "colab": {}
      },
      "source": [
        "#import pandas for data analytics\n",
        "import pandas as pd\n",
        "\n",
        "# Read the data file into a pandas dataframe.\n",
        "# Notice that we must indicate the full path of the data file.\n",
        "# Name the dataframe houses_2009\n",
        "filename = 'NashvilleHousingData/2009SINGLEFAMILYSF.txt'\n",
        "houses_2009 = pd.read_csv(filename)"
      ],
      "execution_count": 0,
      "outputs": []
    },
    {
      "cell_type": "markdown",
      "metadata": {
        "colab_type": "text",
        "id": "QguspCFp1_Rt"
      },
      "source": [
        "We can now view the first few rows using the `.head()` method. We can also inspect the last few rows using `.tail()`... or a sample of rows using .sample(n), where n = number of rows desired."
      ]
    },
    {
      "cell_type": "code",
      "metadata": {
        "colab_type": "code",
        "id": "W8AXinoB1_Ru",
        "scrolled": false,
        "outputId": "c771bdc4-b1ad-4daa-ae65-7ee21a0c539a",
        "colab": {
          "base_uri": "https://localhost:8080/",
          "height": 398
        }
      },
      "source": [
        "houses_2009.head(10)"
      ],
      "execution_count": 0,
      "outputs": [
        {
          "output_type": "execute_result",
          "data": {
            "text/html": [
              "<div>\n",
              "<style scoped>\n",
              "    .dataframe tbody tr th:only-of-type {\n",
              "        vertical-align: middle;\n",
              "    }\n",
              "\n",
              "    .dataframe tbody tr th {\n",
              "        vertical-align: top;\n",
              "    }\n",
              "\n",
              "    .dataframe thead th {\n",
              "        text-align: right;\n",
              "    }\n",
              "</style>\n",
              "<table border=\"1\" class=\"dataframe\">\n",
              "  <thead>\n",
              "    <tr style=\"text-align: right;\">\n",
              "      <th></th>\n",
              "      <th>APN</th>\n",
              "      <th>DistrictCode</th>\n",
              "      <th>Council District</th>\n",
              "      <th>AddressFullAddress</th>\n",
              "      <th>AddressCity</th>\n",
              "      <th>AddressPostalCode</th>\n",
              "      <th>2009 LAND</th>\n",
              "      <th>2009 IMPR</th>\n",
              "      <th>2009 TOTAL APPR</th>\n",
              "      <th>2009 TOTAL ASSD</th>\n",
              "      <th>FinishedArea</th>\n",
              "    </tr>\n",
              "  </thead>\n",
              "  <tbody>\n",
              "    <tr>\n",
              "      <th>0</th>\n",
              "      <td>00200000300</td>\n",
              "      <td>RT</td>\n",
              "      <td>10</td>\n",
              "      <td>1012 OLD BUCK HILL RD</td>\n",
              "      <td>GOODLETTSVILLE</td>\n",
              "      <td>37072</td>\n",
              "      <td>49800.0</td>\n",
              "      <td>65700.0</td>\n",
              "      <td>115500.0</td>\n",
              "      <td>28875.0</td>\n",
              "      <td>1920.0</td>\n",
              "    </tr>\n",
              "    <tr>\n",
              "      <th>1</th>\n",
              "      <td>00200000700</td>\n",
              "      <td>RT</td>\n",
              "      <td>10</td>\n",
              "      <td>1109 HIGHLAND AVE</td>\n",
              "      <td>GOODLETTSVILLE</td>\n",
              "      <td>37072</td>\n",
              "      <td>44100.0</td>\n",
              "      <td>88700.0</td>\n",
              "      <td>132800.0</td>\n",
              "      <td>33200.0</td>\n",
              "      <td>1464.0</td>\n",
              "    </tr>\n",
              "    <tr>\n",
              "      <th>2</th>\n",
              "      <td>00200001001002</td>\n",
              "      <td>GSD</td>\n",
              "      <td>10</td>\n",
              "      <td>0 SPRINGFIELD HWY</td>\n",
              "      <td>GOODLETTSVILLE</td>\n",
              "      <td>37072</td>\n",
              "      <td>15000.0</td>\n",
              "      <td>137900.0</td>\n",
              "      <td>152900.0</td>\n",
              "      <td>38225.0</td>\n",
              "      <td>3539.0</td>\n",
              "    </tr>\n",
              "    <tr>\n",
              "      <th>3</th>\n",
              "      <td>00200001400001</td>\n",
              "      <td>RT</td>\n",
              "      <td>10</td>\n",
              "      <td>133 B EAST END RD</td>\n",
              "      <td>GOODLETTSVILLE</td>\n",
              "      <td>37072</td>\n",
              "      <td>41100.0</td>\n",
              "      <td>27000.0</td>\n",
              "      <td>68100.0</td>\n",
              "      <td>17025.0</td>\n",
              "      <td>736.0</td>\n",
              "    </tr>\n",
              "    <tr>\n",
              "      <th>4</th>\n",
              "      <td>00200001600001</td>\n",
              "      <td>RT</td>\n",
              "      <td>10</td>\n",
              "      <td>141 B EAST END RD</td>\n",
              "      <td>GOODLETTSVILLE</td>\n",
              "      <td>37072</td>\n",
              "      <td>25100.0</td>\n",
              "      <td>60900.0</td>\n",
              "      <td>86000.0</td>\n",
              "      <td>21500.0</td>\n",
              "      <td>1301.0</td>\n",
              "    </tr>\n",
              "    <tr>\n",
              "      <th>5</th>\n",
              "      <td>00200002400</td>\n",
              "      <td>GSD</td>\n",
              "      <td>10</td>\n",
              "      <td>226 EAST END RD</td>\n",
              "      <td>GOODLETTSVILLE</td>\n",
              "      <td>37072</td>\n",
              "      <td>41800.0</td>\n",
              "      <td>129800.0</td>\n",
              "      <td>171600.0</td>\n",
              "      <td>42900.0</td>\n",
              "      <td>1998.0</td>\n",
              "    </tr>\n",
              "    <tr>\n",
              "      <th>6</th>\n",
              "      <td>00200002401</td>\n",
              "      <td>GSD</td>\n",
              "      <td>10</td>\n",
              "      <td>231 EAST END RD</td>\n",
              "      <td>GOODLETTSVILLE</td>\n",
              "      <td>37072</td>\n",
              "      <td>28000.0</td>\n",
              "      <td>87800.0</td>\n",
              "      <td>115800.0</td>\n",
              "      <td>28950.0</td>\n",
              "      <td>2028.0</td>\n",
              "    </tr>\n",
              "    <tr>\n",
              "      <th>7</th>\n",
              "      <td>00200002700</td>\n",
              "      <td>RT</td>\n",
              "      <td>10</td>\n",
              "      <td>112 EAST END RD</td>\n",
              "      <td>GOODLETTSVILLE</td>\n",
              "      <td>37072</td>\n",
              "      <td>21000.0</td>\n",
              "      <td>119300.0</td>\n",
              "      <td>140300.0</td>\n",
              "      <td>35075.0</td>\n",
              "      <td>2627.0</td>\n",
              "    </tr>\n",
              "    <tr>\n",
              "      <th>8</th>\n",
              "      <td>00200003000001</td>\n",
              "      <td>RT</td>\n",
              "      <td>10</td>\n",
              "      <td>156 B EAST END RD</td>\n",
              "      <td>GOODLETTSVILLE</td>\n",
              "      <td>37072</td>\n",
              "      <td>37300.0</td>\n",
              "      <td>122600.0</td>\n",
              "      <td>159900.0</td>\n",
              "      <td>39975.0</td>\n",
              "      <td>1830.0</td>\n",
              "    </tr>\n",
              "    <tr>\n",
              "      <th>9</th>\n",
              "      <td>00200003100</td>\n",
              "      <td>RT</td>\n",
              "      <td>10</td>\n",
              "      <td>148 EAST END RD</td>\n",
              "      <td>GOODLETTSVILLE</td>\n",
              "      <td>37072</td>\n",
              "      <td>21000.0</td>\n",
              "      <td>14300.0</td>\n",
              "      <td>35300.0</td>\n",
              "      <td>8825.0</td>\n",
              "      <td>693.0</td>\n",
              "    </tr>\n",
              "  </tbody>\n",
              "</table>\n",
              "</div>"
            ],
            "text/plain": [
              "              APN DistrictCode  ...  2009 TOTAL ASSD FinishedArea\n",
              "0     00200000300         RT    ...          28875.0       1920.0\n",
              "1     00200000700         RT    ...          33200.0       1464.0\n",
              "2  00200001001002         GSD   ...          38225.0       3539.0\n",
              "3  00200001400001         RT    ...          17025.0        736.0\n",
              "4  00200001600001         RT    ...          21500.0       1301.0\n",
              "5     00200002400         GSD   ...          42900.0       1998.0\n",
              "6     00200002401         GSD   ...          28950.0       2028.0\n",
              "7     00200002700         RT    ...          35075.0       2627.0\n",
              "8  00200003000001         RT    ...          39975.0       1830.0\n",
              "9     00200003100         RT    ...           8825.0        693.0\n",
              "\n",
              "[10 rows x 11 columns]"
            ]
          },
          "metadata": {
            "tags": []
          },
          "execution_count": 3
        }
      ]
    },
    {
      "cell_type": "markdown",
      "metadata": {
        "colab_type": "text",
        "id": "99HrD5NI1_R_"
      },
      "source": [
        "Now, let's look at the column names:"
      ]
    },
    {
      "cell_type": "code",
      "metadata": {
        "colab_type": "code",
        "id": "Afaw8oBL1_SA",
        "outputId": "8cf946d3-7e3e-4b37-ee7b-df2905692d0e",
        "colab": {
          "base_uri": "https://localhost:8080/",
          "height": 86
        }
      },
      "source": [
        "houses_2009.columns"
      ],
      "execution_count": 0,
      "outputs": [
        {
          "output_type": "execute_result",
          "data": {
            "text/plain": [
              "Index(['APN', 'DistrictCode', 'Council District', 'AddressFullAddress',\n",
              "       'AddressCity', 'AddressPostalCode', '2009 LAND', '2009 IMPR',\n",
              "       '2009 TOTAL APPR', '2009 TOTAL ASSD', 'FinishedArea'],\n",
              "      dtype='object')"
            ]
          },
          "metadata": {
            "tags": []
          },
          "execution_count": 4
        }
      ]
    },
    {
      "cell_type": "markdown",
      "metadata": {
        "colab_type": "text",
        "id": "s6ssd2x26LlJ"
      },
      "source": [
        "... and the DistrictCode values"
      ]
    },
    {
      "cell_type": "code",
      "metadata": {
        "colab_type": "code",
        "id": "rPnVr9UVFSK5",
        "outputId": "36ebe2cb-b562-469c-8110-c4c76aedf1aa",
        "colab": {
          "base_uri": "https://localhost:8080/",
          "height": 52
        }
      },
      "source": [
        "houses_2009['DistrictCode'].unique()"
      ],
      "execution_count": 0,
      "outputs": [
        {
          "output_type": "execute_result",
          "data": {
            "text/plain": [
              "array(['RT  ', 'GSD ', 'GO  ', 'USD ', 'LW  ', 'CBID', 'GBID', 'BH  ',\n",
              "       'BM  ', 'OH  ', 'FH  '], dtype=object)"
            ]
          },
          "metadata": {
            "tags": []
          },
          "execution_count": 5
        }
      ]
    },
    {
      "cell_type": "markdown",
      "metadata": {
        "colab_type": "text",
        "id": "HgQrxTg1CbE4"
      },
      "source": [
        "An assessor's parcel number, or APN, is a number assigned to parcels of real property by the tax assessor of a particular jurisdiction for purposes of identification and record-keeping.\n",
        "\n",
        "DistrictCode: GSD (General Service District), RT (RidgeTop), USD (Urban Service District), GO (Goodlettsville), LW (Lakewood), CBID (Central Business Improvement District), GBID (Gulch Business Improvement District), BH (Berry Hill), BM (Belle Meade), OH (Oak Hill), FH (Forrest Hills)\n",
        "\n",
        "LAND: Land appraisal\n",
        "\n",
        "IMPR: Improvements appraisal\n",
        "\n",
        "TOTAL APPR: LAND + IMPR\n",
        "\n",
        "an estimate of market value based on established set of tables, manuals, and procedures mandated by state statute to provide equal treatment of all properties in the jurisdiction for tax purposes.\n",
        "\n",
        "TOTAL ASSD: Assessed value for tax purposes\n",
        "calculated by multiplying the appraised value by the assessment ratio. The assessment ratio for each different classification of property is established by Tennessee Constitution Art.2, § 28 and TCA § 67-5-801 state law as follows:\n",
        "\n",
        "Residential/Farm\t25%\tCommercial/Industrial\t30%\n",
        "Commercial/Industrial\t40%\tPublic Utility\t55%\n",
        "\n",
        "Finished Area: In square feet"
      ]
    },
    {
      "cell_type": "markdown",
      "metadata": {
        "colab_type": "text",
        "id": "zk-WojqW1_R0"
      },
      "source": [
        "We can check the dimensions of our DataFrame using `.shape`. This returns a tuple (number of rows, number of columns)."
      ]
    },
    {
      "cell_type": "code",
      "metadata": {
        "colab_type": "code",
        "id": "Ie_pvtM_1_R1",
        "outputId": "a77b1db6-2ed9-473b-878a-6b16bdedb71a",
        "colab": {
          "base_uri": "https://localhost:8080/",
          "height": 34
        }
      },
      "source": [
        "houses_2009.shape"
      ],
      "execution_count": 0,
      "outputs": [
        {
          "output_type": "execute_result",
          "data": {
            "text/plain": [
              "(183406, 11)"
            ]
          },
          "metadata": {
            "tags": []
          },
          "execution_count": 6
        }
      ]
    },
    {
      "cell_type": "markdown",
      "metadata": {
        "colab_type": "text",
        "id": "QRv-gKbl1_R4"
      },
      "source": [
        "The method `.info()` gives us more information about each column.\n",
        "\n",
        "Notice the number of non-null objects in each column!!!"
      ]
    },
    {
      "cell_type": "code",
      "metadata": {
        "colab_type": "code",
        "id": "bV2fXsCD1_R5",
        "outputId": "61708d8f-a68e-4684-e880-f162a73b6843",
        "colab": {
          "base_uri": "https://localhost:8080/",
          "height": 295
        }
      },
      "source": [
        "houses_2009.info()"
      ],
      "execution_count": 0,
      "outputs": [
        {
          "output_type": "stream",
          "text": [
            "<class 'pandas.core.frame.DataFrame'>\n",
            "RangeIndex: 183406 entries, 0 to 183405\n",
            "Data columns (total 11 columns):\n",
            "APN                   183406 non-null object\n",
            "DistrictCode          183406 non-null object\n",
            "Council District      183406 non-null int64\n",
            "AddressFullAddress    183406 non-null object\n",
            "AddressCity           183406 non-null object\n",
            "AddressPostalCode     183406 non-null int64\n",
            "2009 LAND             183406 non-null float64\n",
            "2009 IMPR             183406 non-null float64\n",
            "2009 TOTAL APPR       183406 non-null float64\n",
            "2009 TOTAL ASSD       183406 non-null float64\n",
            "FinishedArea          183406 non-null float64\n",
            "dtypes: float64(5), int64(2), object(4)\n",
            "memory usage: 15.4+ MB\n"
          ],
          "name": "stdout"
        }
      ]
    },
    {
      "cell_type": "markdown",
      "metadata": {
        "colab_type": "text",
        "id": "1Bl4VhKX1_SF"
      },
      "source": [
        "Let's adjust the column names. It is a lot easier to work with columns that do not have spaces or start with a number."
      ]
    },
    {
      "cell_type": "code",
      "metadata": {
        "colab_type": "code",
        "id": "A4SW9O_m1_SG",
        "scrolled": false,
        "outputId": "e34eec5b-0115-4753-9c7d-15b14875c848",
        "colab": {
          "base_uri": "https://localhost:8080/",
          "height": 86
        }
      },
      "source": [
        "houses_2009.columns = ['APN', 'DistrictCode', 'CouncilDistrict', 'AddressFullAddress',\n",
        "       'AddressCity', 'AddressPostalCode', 'LAND', 'IMPR', 'TOTALAPPR',\n",
        "       'TOTALASSD', 'FinishedArea']\n",
        "houses_2009.columns"
      ],
      "execution_count": 0,
      "outputs": [
        {
          "output_type": "execute_result",
          "data": {
            "text/plain": [
              "Index(['APN', 'DistrictCode', 'CouncilDistrict', 'AddressFullAddress',\n",
              "       'AddressCity', 'AddressPostalCode', 'LAND', 'IMPR', 'TOTALAPPR',\n",
              "       'TOTALASSD', 'FinishedArea'],\n",
              "      dtype='object')"
            ]
          },
          "metadata": {
            "tags": []
          },
          "execution_count": 8
        }
      ]
    },
    {
      "cell_type": "markdown",
      "metadata": {
        "colab_type": "text",
        "id": "7CNLfnzP1_SJ"
      },
      "source": [
        "Now, let's read in the 2013 and 2017 files and change the column names in the same way as for the 2009 file."
      ]
    },
    {
      "cell_type": "code",
      "metadata": {
        "colab_type": "code",
        "id": "8ZhA9eMm1_SK",
        "colab": {}
      },
      "source": [
        "houses_2013 = pd.read_csv('NashvilleHousingData/2013SINGLEFAMILYSF.txt')\n",
        "houses_2017 = pd.read_csv('NashvilleHousingData/2017SINGLEFAMILYSF.txt')\n",
        "houses_2013.columns = ['APN', 'DistrictCode', 'CouncilDistrict', 'AddressFullAddress',\n",
        "       'AddressCity', 'AddressPostalCode', 'LAND', 'IMPR', 'TOTALAPPR',\n",
        "       'TOTALASSD', 'FinishedArea']\n",
        "houses_2017.columns = ['APN', 'DistrictCode', 'CouncilDistrict', 'AddressFullAddress',\n",
        "       'AddressCity', 'AddressPostalCode', 'LAND', 'IMPR', 'TOTALAPPR',\n",
        "       'TOTALASSD', 'FinishedArea']\n",
        "\n"
      ],
      "execution_count": 0,
      "outputs": []
    },
    {
      "cell_type": "markdown",
      "metadata": {
        "colab_type": "text",
        "id": "9RZbxofS67qH"
      },
      "source": [
        "We can access a column in the following way:\n",
        "\n",
        "df['column_name']"
      ]
    },
    {
      "cell_type": "code",
      "metadata": {
        "colab_type": "code",
        "id": "lPqIiIlG7Ile",
        "outputId": "684b6ff2-ef8a-46c5-e9f5-eef36cca25bd",
        "colab": {
          "base_uri": "https://localhost:8080/",
          "height": 225
        }
      },
      "source": [
        "houses_2009['AddressCity']"
      ],
      "execution_count": 0,
      "outputs": [
        {
          "output_type": "execute_result",
          "data": {
            "text/plain": [
              "0         GOODLETTSVILLE\n",
              "1         GOODLETTSVILLE\n",
              "2         GOODLETTSVILLE\n",
              "3         GOODLETTSVILLE\n",
              "4         GOODLETTSVILLE\n",
              "               ...      \n",
              "183401       NOLENSVILLE\n",
              "183402       NOLENSVILLE\n",
              "183403       NOLENSVILLE\n",
              "183404       NOLENSVILLE\n",
              "183405       NOLENSVILLE\n",
              "Name: AddressCity, Length: 183406, dtype: object"
            ]
          },
          "metadata": {
            "tags": []
          },
          "execution_count": 11
        }
      ]
    },
    {
      "cell_type": "markdown",
      "metadata": {
        "colab_type": "text",
        "id": "ce_xbbfM1_SO"
      },
      "source": [
        "If we want to see the different entries for a column, we can use the `.unique()` method:"
      ]
    },
    {
      "cell_type": "code",
      "metadata": {
        "colab_type": "code",
        "id": "d0_N7_i51_SP",
        "outputId": "3e168211-1ef5-47c7-d578-cbdf8efeefbe",
        "colab": {
          "base_uri": "https://localhost:8080/",
          "height": 86
        }
      },
      "source": [
        "houses_2009['AddressCity'].unique()"
      ],
      "execution_count": 0,
      "outputs": [
        {
          "output_type": "execute_result",
          "data": {
            "text/plain": [
              "array(['GOODLETTSVILLE', 'JOELTON', 'WHITES CREEK', 'MADISON',\n",
              "       'NASHVILLE', 'OLD HICKORY', 'ASHLAND CITY', 'HERMITAGE', 'PEGRAM',\n",
              "       'MOUNT JULIET', 'ANTIOCH', 'BELLEVUE', 'BRENTWOOD', 'LAVERGNE',\n",
              "       'FRANKLIN', 'NOLENSVILLE'], dtype=object)"
            ]
          },
          "metadata": {
            "tags": []
          },
          "execution_count": 12
        }
      ]
    },
    {
      "cell_type": "markdown",
      "metadata": {
        "colab_type": "text",
        "id": "KhaMH-N_1_SQ"
      },
      "source": [
        "The `.value_counts()` method will give a tally of the entries in a particular column, sorted in descending order by default. For example, let's say we want to get a tally of homes by city."
      ]
    },
    {
      "cell_type": "code",
      "metadata": {
        "colab_type": "code",
        "id": "UHz5SnSP1_SR",
        "outputId": "9209a596-a371-4733-e1ea-f2a71f92b9f0",
        "colab": {
          "base_uri": "https://localhost:8080/",
          "height": 312
        }
      },
      "source": [
        "houses_2009['AddressCity'].value_counts()"
      ],
      "execution_count": 0,
      "outputs": [
        {
          "output_type": "execute_result",
          "data": {
            "text/plain": [
              "NASHVILLE         126590\n",
              "ANTIOCH            20028\n",
              "MADISON             9675\n",
              "HERMITAGE           9615\n",
              "OLD HICKORY         5267\n",
              "BRENTWOOD           4534\n",
              "GOODLETTSVILLE      4275\n",
              "JOELTON             1479\n",
              "WHITES CREEK        1173\n",
              "NOLENSVILLE          278\n",
              "PEGRAM               174\n",
              "ASHLAND CITY         160\n",
              "MOUNT JULIET         128\n",
              "FRANKLIN              24\n",
              "LAVERGNE               3\n",
              "BELLEVUE               3\n",
              "Name: AddressCity, dtype: int64"
            ]
          },
          "metadata": {
            "tags": []
          },
          "execution_count": 13
        }
      ]
    },
    {
      "cell_type": "markdown",
      "metadata": {
        "colab_type": "text",
        "id": "sJcmv-By1_SW"
      },
      "source": [
        "### Filtering\n",
        "\n",
        "Let's find all homes in Goodlettsville. Start by creating a boolean array.\n",
        "\n",
        "We can consider the following to be stating that (or asking whether or not) each specific row of the dataframe has \n",
        "\n",
        "houses_2009['AddressCity'] == 'GOODLETTSVILLE'\n",
        "\n",
        "The response is True or False"
      ]
    },
    {
      "cell_type": "code",
      "metadata": {
        "colab_type": "code",
        "id": "FvrlmprY1_SX",
        "outputId": "a1e4956b-def7-4b79-9744-5e9c54d5f15e",
        "colab": {
          "base_uri": "https://localhost:8080/",
          "height": 225
        }
      },
      "source": [
        "houses_2009['AddressCity'] == 'GOODLETTSVILLE'"
      ],
      "execution_count": 0,
      "outputs": [
        {
          "output_type": "execute_result",
          "data": {
            "text/plain": [
              "0          True\n",
              "1          True\n",
              "2          True\n",
              "3          True\n",
              "4          True\n",
              "          ...  \n",
              "183401    False\n",
              "183402    False\n",
              "183403    False\n",
              "183404    False\n",
              "183405    False\n",
              "Name: AddressCity, Length: 183406, dtype: bool"
            ]
          },
          "metadata": {
            "tags": []
          },
          "execution_count": 14
        }
      ]
    },
    {
      "cell_type": "markdown",
      "metadata": {
        "colab_type": "text",
        "id": "Mcj0PW801_Sb"
      },
      "source": [
        "Then locate the rows (within the dataframe) that give a response of True"
      ]
    },
    {
      "cell_type": "code",
      "metadata": {
        "colab_type": "code",
        "id": "i-0tSi0l1_Sb",
        "outputId": "2ac82139-d12c-4096-81d5-e628aa5c1a78",
        "colab": {
          "base_uri": "https://localhost:8080/",
          "height": 441
        }
      },
      "source": [
        "houses_2009[houses_2009['AddressCity'] == 'GOODLETTSVILLE']"
      ],
      "execution_count": 0,
      "outputs": [
        {
          "output_type": "execute_result",
          "data": {
            "text/html": [
              "<div>\n",
              "<style scoped>\n",
              "    .dataframe tbody tr th:only-of-type {\n",
              "        vertical-align: middle;\n",
              "    }\n",
              "\n",
              "    .dataframe tbody tr th {\n",
              "        vertical-align: top;\n",
              "    }\n",
              "\n",
              "    .dataframe thead th {\n",
              "        text-align: right;\n",
              "    }\n",
              "</style>\n",
              "<table border=\"1\" class=\"dataframe\">\n",
              "  <thead>\n",
              "    <tr style=\"text-align: right;\">\n",
              "      <th></th>\n",
              "      <th>APN</th>\n",
              "      <th>DistrictCode</th>\n",
              "      <th>CouncilDistrict</th>\n",
              "      <th>AddressFullAddress</th>\n",
              "      <th>AddressCity</th>\n",
              "      <th>AddressPostalCode</th>\n",
              "      <th>LAND</th>\n",
              "      <th>IMPR</th>\n",
              "      <th>TOTALAPPR</th>\n",
              "      <th>TOTALASSD</th>\n",
              "      <th>FinishedArea</th>\n",
              "    </tr>\n",
              "  </thead>\n",
              "  <tbody>\n",
              "    <tr>\n",
              "      <th>0</th>\n",
              "      <td>00200000300</td>\n",
              "      <td>RT</td>\n",
              "      <td>10</td>\n",
              "      <td>1012 OLD BUCK HILL RD</td>\n",
              "      <td>GOODLETTSVILLE</td>\n",
              "      <td>37072</td>\n",
              "      <td>49800.0</td>\n",
              "      <td>65700.0</td>\n",
              "      <td>115500.0</td>\n",
              "      <td>28875.0</td>\n",
              "      <td>1920.00000</td>\n",
              "    </tr>\n",
              "    <tr>\n",
              "      <th>1</th>\n",
              "      <td>00200000700</td>\n",
              "      <td>RT</td>\n",
              "      <td>10</td>\n",
              "      <td>1109 HIGHLAND AVE</td>\n",
              "      <td>GOODLETTSVILLE</td>\n",
              "      <td>37072</td>\n",
              "      <td>44100.0</td>\n",
              "      <td>88700.0</td>\n",
              "      <td>132800.0</td>\n",
              "      <td>33200.0</td>\n",
              "      <td>1464.00000</td>\n",
              "    </tr>\n",
              "    <tr>\n",
              "      <th>2</th>\n",
              "      <td>00200001001002</td>\n",
              "      <td>GSD</td>\n",
              "      <td>10</td>\n",
              "      <td>0 SPRINGFIELD HWY</td>\n",
              "      <td>GOODLETTSVILLE</td>\n",
              "      <td>37072</td>\n",
              "      <td>15000.0</td>\n",
              "      <td>137900.0</td>\n",
              "      <td>152900.0</td>\n",
              "      <td>38225.0</td>\n",
              "      <td>3539.00000</td>\n",
              "    </tr>\n",
              "    <tr>\n",
              "      <th>3</th>\n",
              "      <td>00200001400001</td>\n",
              "      <td>RT</td>\n",
              "      <td>10</td>\n",
              "      <td>133 B EAST END RD</td>\n",
              "      <td>GOODLETTSVILLE</td>\n",
              "      <td>37072</td>\n",
              "      <td>41100.0</td>\n",
              "      <td>27000.0</td>\n",
              "      <td>68100.0</td>\n",
              "      <td>17025.0</td>\n",
              "      <td>736.00000</td>\n",
              "    </tr>\n",
              "    <tr>\n",
              "      <th>4</th>\n",
              "      <td>00200001600001</td>\n",
              "      <td>RT</td>\n",
              "      <td>10</td>\n",
              "      <td>141 B EAST END RD</td>\n",
              "      <td>GOODLETTSVILLE</td>\n",
              "      <td>37072</td>\n",
              "      <td>25100.0</td>\n",
              "      <td>60900.0</td>\n",
              "      <td>86000.0</td>\n",
              "      <td>21500.0</td>\n",
              "      <td>1301.00000</td>\n",
              "    </tr>\n",
              "    <tr>\n",
              "      <th>...</th>\n",
              "      <td>...</td>\n",
              "      <td>...</td>\n",
              "      <td>...</td>\n",
              "      <td>...</td>\n",
              "      <td>...</td>\n",
              "      <td>...</td>\n",
              "      <td>...</td>\n",
              "      <td>...</td>\n",
              "      <td>...</td>\n",
              "      <td>...</td>\n",
              "      <td>...</td>\n",
              "    </tr>\n",
              "    <tr>\n",
              "      <th>7632</th>\n",
              "      <td>03413020300</td>\n",
              "      <td>GO</td>\n",
              "      <td>10</td>\n",
              "      <td>403 JANETTE CT</td>\n",
              "      <td>GOODLETTSVILLE</td>\n",
              "      <td>37072</td>\n",
              "      <td>27000.0</td>\n",
              "      <td>94900.0</td>\n",
              "      <td>121900.0</td>\n",
              "      <td>30475.0</td>\n",
              "      <td>1025.00000</td>\n",
              "    </tr>\n",
              "    <tr>\n",
              "      <th>7633</th>\n",
              "      <td>03413020400</td>\n",
              "      <td>GO</td>\n",
              "      <td>10</td>\n",
              "      <td>405 JANETTE CT</td>\n",
              "      <td>GOODLETTSVILLE</td>\n",
              "      <td>37072</td>\n",
              "      <td>27000.0</td>\n",
              "      <td>92600.0</td>\n",
              "      <td>119600.0</td>\n",
              "      <td>29900.0</td>\n",
              "      <td>1025.00000</td>\n",
              "    </tr>\n",
              "    <tr>\n",
              "      <th>7634</th>\n",
              "      <td>03413020500</td>\n",
              "      <td>GO</td>\n",
              "      <td>10</td>\n",
              "      <td>407 JANETTE CT</td>\n",
              "      <td>GOODLETTSVILLE</td>\n",
              "      <td>37072</td>\n",
              "      <td>27000.0</td>\n",
              "      <td>93200.0</td>\n",
              "      <td>120200.0</td>\n",
              "      <td>30050.0</td>\n",
              "      <td>1025.00000</td>\n",
              "    </tr>\n",
              "    <tr>\n",
              "      <th>7635</th>\n",
              "      <td>03413020600</td>\n",
              "      <td>GO</td>\n",
              "      <td>10</td>\n",
              "      <td>409 JANETTE CT</td>\n",
              "      <td>GOODLETTSVILLE</td>\n",
              "      <td>37072</td>\n",
              "      <td>31000.0</td>\n",
              "      <td>100700.0</td>\n",
              "      <td>131700.0</td>\n",
              "      <td>32925.0</td>\n",
              "      <td>1361.00000</td>\n",
              "    </tr>\n",
              "    <tr>\n",
              "      <th>9305</th>\n",
              "      <td>04200002200</td>\n",
              "      <td>GSD</td>\n",
              "      <td>3</td>\n",
              "      <td>200 GREEN ACRES DR</td>\n",
              "      <td>GOODLETTSVILLE</td>\n",
              "      <td>37072</td>\n",
              "      <td>105200.0</td>\n",
              "      <td>183300.0</td>\n",
              "      <td>288500.0</td>\n",
              "      <td>72125.0</td>\n",
              "      <td>3343.19995</td>\n",
              "    </tr>\n",
              "  </tbody>\n",
              "</table>\n",
              "<p>4275 rows × 11 columns</p>\n",
              "</div>"
            ],
            "text/plain": [
              "                 APN DistrictCode  ...  TOTALASSD FinishedArea\n",
              "0        00200000300         RT    ...    28875.0   1920.00000\n",
              "1        00200000700         RT    ...    33200.0   1464.00000\n",
              "2     00200001001002         GSD   ...    38225.0   3539.00000\n",
              "3     00200001400001         RT    ...    17025.0    736.00000\n",
              "4     00200001600001         RT    ...    21500.0   1301.00000\n",
              "...              ...          ...  ...        ...          ...\n",
              "7632     03413020300         GO    ...    30475.0   1025.00000\n",
              "7633     03413020400         GO    ...    29900.0   1025.00000\n",
              "7634     03413020500         GO    ...    30050.0   1025.00000\n",
              "7635     03413020600         GO    ...    32925.0   1361.00000\n",
              "9305     04200002200         GSD   ...    72125.0   3343.19995\n",
              "\n",
              "[4275 rows x 11 columns]"
            ]
          },
          "metadata": {
            "tags": []
          },
          "execution_count": 15
        }
      ]
    },
    {
      "cell_type": "markdown",
      "metadata": {
        "colab_type": "text",
        "id": "4ns2EVpI1_Sd"
      },
      "source": [
        "We can slice our DataFrame using a boolean series as before, but we can also use `.loc`  (locate) to slice by passing which index values we want (row, column, or both). This looks like `df.loc[<rows>,<columns>]`\n",
        "\n",
        "houses_2009.loc[100:105,['AddressFullAddress', 'AddressCity']] \n",
        "\n",
        "selects rows 100 - 105 with only the specified columns"
      ]
    },
    {
      "cell_type": "code",
      "metadata": {
        "colab_type": "code",
        "id": "kbTaYHtf1_Se",
        "outputId": "06623609-f3c1-44ec-822f-30ae8dbc8884",
        "colab": {
          "base_uri": "https://localhost:8080/",
          "height": 238
        }
      },
      "source": [
        "houses_2009.loc[100:105,['AddressFullAddress', 'AddressCity']]"
      ],
      "execution_count": 0,
      "outputs": [
        {
          "output_type": "execute_result",
          "data": {
            "text/html": [
              "<div>\n",
              "<style scoped>\n",
              "    .dataframe tbody tr th:only-of-type {\n",
              "        vertical-align: middle;\n",
              "    }\n",
              "\n",
              "    .dataframe tbody tr th {\n",
              "        vertical-align: top;\n",
              "    }\n",
              "\n",
              "    .dataframe thead th {\n",
              "        text-align: right;\n",
              "    }\n",
              "</style>\n",
              "<table border=\"1\" class=\"dataframe\">\n",
              "  <thead>\n",
              "    <tr style=\"text-align: right;\">\n",
              "      <th></th>\n",
              "      <th>AddressFullAddress</th>\n",
              "      <th>AddressCity</th>\n",
              "    </tr>\n",
              "  </thead>\n",
              "  <tbody>\n",
              "    <tr>\n",
              "      <th>100</th>\n",
              "      <td>8121 LAIN HOLLOW RD</td>\n",
              "      <td>JOELTON</td>\n",
              "    </tr>\n",
              "    <tr>\n",
              "      <th>101</th>\n",
              "      <td>8158 LAIN HOLLOW RD</td>\n",
              "      <td>JOELTON</td>\n",
              "    </tr>\n",
              "    <tr>\n",
              "      <th>102</th>\n",
              "      <td>8180 WHITES CREEK PIKE</td>\n",
              "      <td>JOELTON</td>\n",
              "    </tr>\n",
              "    <tr>\n",
              "      <th>103</th>\n",
              "      <td>8184 WHITES CREEK PIKE</td>\n",
              "      <td>JOELTON</td>\n",
              "    </tr>\n",
              "    <tr>\n",
              "      <th>104</th>\n",
              "      <td>8188 WHITES CREEK PIKE</td>\n",
              "      <td>JOELTON</td>\n",
              "    </tr>\n",
              "    <tr>\n",
              "      <th>105</th>\n",
              "      <td>8192 WHITES CREEK PIKE</td>\n",
              "      <td>JOELTON</td>\n",
              "    </tr>\n",
              "  </tbody>\n",
              "</table>\n",
              "</div>"
            ],
            "text/plain": [
              "         AddressFullAddress AddressCity\n",
              "100     8121 LAIN HOLLOW RD     JOELTON\n",
              "101     8158 LAIN HOLLOW RD     JOELTON\n",
              "102  8180 WHITES CREEK PIKE     JOELTON\n",
              "103  8184 WHITES CREEK PIKE     JOELTON\n",
              "104  8188 WHITES CREEK PIKE     JOELTON\n",
              "105  8192 WHITES CREEK PIKE     JOELTON"
            ]
          },
          "metadata": {
            "tags": []
          },
          "execution_count": 16
        }
      ]
    },
    {
      "cell_type": "code",
      "metadata": {
        "colab_type": "code",
        "id": "SGEf8Ndy1_Sg",
        "outputId": "8fcfef06-22e2-4b27-d4e4-be61a6f7d477",
        "colab": {
          "base_uri": "https://localhost:8080/",
          "height": 225
        }
      },
      "source": [
        "houses_2009.loc[1000]"
      ],
      "execution_count": 0,
      "outputs": [
        {
          "output_type": "execute_result",
          "data": {
            "text/plain": [
              "APN                       01400007800\n",
              "DistrictCode                     GSD \n",
              "CouncilDistrict                     1\n",
              "AddressFullAddress    7401 BIDWELL RD\n",
              "AddressCity                   JOELTON\n",
              "AddressPostalCode               37080\n",
              "LAND                            72500\n",
              "IMPR                           137700\n",
              "TOTALAPPR                      210200\n",
              "TOTALASSD                       52550\n",
              "FinishedArea                   2316.6\n",
              "Name: 1000, dtype: object"
            ]
          },
          "metadata": {
            "tags": []
          },
          "execution_count": 17
        }
      ]
    },
    {
      "cell_type": "markdown",
      "metadata": {
        "id": "JJXyQH2MBeS2",
        "colab_type": "text"
      },
      "source": [
        "What is the datatype of the result of the previous cell?\n",
        "\n",
        "How would you characterize the difference in the objects from the previous cell?"
      ]
    },
    {
      "cell_type": "markdown",
      "metadata": {
        "colab_type": "text",
        "id": "fnah15a51_Sj"
      },
      "source": [
        "Time for some plots! Let's look at the number of single family homes assessed in each district. \n",
        "\n",
        "Plotting can be done using pandas DataFrame methods. Behind the scenes, this is done using the matplotlib library. In order to get our plots to display in our notebook, we can use the ipython magic command `%matplotlib inline`."
      ]
    },
    {
      "cell_type": "code",
      "metadata": {
        "colab_type": "code",
        "id": "6YWpbL3m1_Sj",
        "colab": {}
      },
      "source": [
        "# import a python visualization package - matplotlib\n",
        "import matplotlib.pyplot as plt\n",
        "%matplotlib inline"
      ],
      "execution_count": 0,
      "outputs": []
    },
    {
      "cell_type": "code",
      "metadata": {
        "colab_type": "code",
        "id": "vuTr8QDh1_Sl",
        "outputId": "28c4acf5-b7f9-4bdd-fe1c-ee17fecc5e47",
        "colab": {
          "base_uri": "https://localhost:8080/",
          "height": 268
        }
      },
      "source": [
        "houses_2009['CouncilDistrict'].value_counts().plot.bar();"
      ],
      "execution_count": 0,
      "outputs": [
        {
          "output_type": "display_data",
          "data": {
            "image/png": "[encoded data removed]",
            "text/plain": [
              "<Figure size 432x288 with 1 Axes>"
            ]
          },
          "metadata": {
            "tags": []
          }
        }
      ]
    },
    {
      "cell_type": "markdown",
      "metadata": {
        "colab_type": "text",
        "id": "M9z8NfB21_Sn"
      },
      "source": [
        "The plots we create are highly customizable. For a (partial) list of stylistic options, see https://pandas.pydata.org/pandas-docs/version/0.22/generated/pandas.DataFrame.plot.html."
      ]
    },
    {
      "cell_type": "code",
      "metadata": {
        "colab_type": "code",
        "id": "oMuZgdsG1_Sn",
        "outputId": "054f5c01-36c5-4a5e-835a-262ac78f11c2",
        "colab": {
          "base_uri": "https://localhost:8080/",
          "height": 369
        }
      },
      "source": [
        "fig = houses_2009['CouncilDistrict'].value_counts().plot.bar(figsize = (15,5), width = .75,\n",
        "                                                         color = 'plum')\n",
        "fig.set_xlabel('xlabel')\n",
        "fig.set_ylabel('ylabel')\n",
        "fig.set_title('Number of Single-Family Homes by ???, 2009', fontweight = 'bold')"
      ],
      "execution_count": 0,
      "outputs": [
        {
          "output_type": "execute_result",
          "data": {
            "text/plain": [
              "Text(0.5, 1.0, 'Number of Single-Family Homes by ???, 2009')"
            ]
          },
          "metadata": {
            "tags": []
          },
          "execution_count": 36
        },
        {
          "output_type": "display_data",
          "data": {
            "image/png": "[encoded data removed]",
            "text/plain": [
              "<Figure size 1080x360 with 1 Axes>"
            ]
          },
          "metadata": {
            "tags": []
          }
        }
      ]
    },
    {
      "cell_type": "markdown",
      "metadata": {
        "colab_type": "text",
        "id": "RrhbpVMK1_Sp"
      },
      "source": [
        "The `.plot` method orders the bars in descending order by default. If we want to change the order, say in order by district number, we can reorder the rows of our DataFrame by using range() as we did with the website data."
      ]
    },
    {
      "cell_type": "code",
      "metadata": {
        "colab_type": "code",
        "id": "hCicuicjBBWk",
        "outputId": "fd9042af-4d25-4fb8-ec71-7f6cd4b5bb8d",
        "colab": {
          "base_uri": "https://localhost:8080/",
          "height": 173
        }
      },
      "source": [
        "for i in range(1,10):\n",
        "  print(i)"
      ],
      "execution_count": 0,
      "outputs": [
        {
          "output_type": "stream",
          "text": [
            "1\n",
            "2\n",
            "3\n",
            "4\n",
            "5\n",
            "6\n",
            "7\n",
            "8\n",
            "9\n"
          ],
          "name": "stdout"
        }
      ]
    },
    {
      "cell_type": "code",
      "metadata": {
        "colab_type": "code",
        "id": "R09IXUq9ByYO",
        "outputId": "41ea82d2-9301-4bdd-9549-655eb6f630cd",
        "colab": {
          "base_uri": "https://localhost:8080/",
          "height": 69
        }
      },
      "source": [
        "houses_2009['CouncilDistrict'].sort_values().unique()"
      ],
      "execution_count": 0,
      "outputs": [
        {
          "output_type": "execute_result",
          "data": {
            "text/plain": [
              "array([ 1,  2,  3,  4,  5,  6,  7,  8,  9, 10, 11, 12, 13, 14, 15, 16, 17,\n",
              "       18, 19, 20, 21, 22, 23, 24, 25, 26, 27, 28, 29, 30, 31, 32, 33, 34,\n",
              "       35])"
            ]
          },
          "metadata": {
            "tags": []
          },
          "execution_count": 24
        }
      ]
    },
    {
      "cell_type": "code",
      "metadata": {
        "colab_type": "code",
        "id": "8vl3AcQr1_Sp",
        "outputId": "46ec886c-545b-43bd-c0e6-9650828814b1",
        "colab": {
          "base_uri": "https://localhost:8080/",
          "height": 642
        }
      },
      "source": [
        "houses_2009['CouncilDistrict'].value_counts().loc[range(1,36)]"
      ],
      "execution_count": 0,
      "outputs": [
        {
          "output_type": "execute_result",
          "data": {
            "text/plain": [
              "1     5906\n",
              "2     4342\n",
              "3     5315\n",
              "4     6856\n",
              "5     4511\n",
              "6     5201\n",
              "7     6144\n",
              "8     5280\n",
              "9     4810\n",
              "10    4431\n",
              "11    6935\n",
              "12    5745\n",
              "13    4722\n",
              "14    4151\n",
              "15    6378\n",
              "16    4271\n",
              "17    3826\n",
              "18    3295\n",
              "19    4998\n",
              "20    4406\n",
              "21    4076\n",
              "22    6239\n",
              "23    6192\n",
              "24    6737\n",
              "25    6461\n",
              "26    5433\n",
              "27    4032\n",
              "28    4305\n",
              "29    5679\n",
              "30    3738\n",
              "31    6384\n",
              "32    2971\n",
              "33    6895\n",
              "34    6507\n",
              "35    6234\n",
              "Name: CouncilDistrict, dtype: int64"
            ]
          },
          "metadata": {
            "tags": []
          },
          "execution_count": 25
        }
      ]
    },
    {
      "cell_type": "code",
      "metadata": {
        "colab_type": "code",
        "id": "lFc9yOv21_St",
        "outputId": "aac2dff6-4385-43c8-b8b2-c16c7119af74",
        "colab": {
          "base_uri": "https://localhost:8080/",
          "height": 407
        }
      },
      "source": [
        "fig = houses_2009['CouncilDistrict'].value_counts().loc[range(1,36)].plot.bar(figsize = (14,6), width = 0.75,\n",
        "                                                         color = 'plum')\n",
        "fig.set_xlabel('District')\n",
        "fig.set_ylabel('Counts')\n",
        "fig.set_title('Number of Single-Family Homes by District, 2009', fontweight = 'bold');"
      ],
      "execution_count": 0,
      "outputs": [
        {
          "output_type": "display_data",
          "data": {
            "image/png": "[encoded data removed]",
            "text/plain": [
              "<Figure size 1008x432 with 1 Axes>"
            ]
          },
          "metadata": {
            "tags": []
          }
        }
      ]
    },
    {
      "cell_type": "markdown",
      "metadata": {
        "colab_type": "text",
        "id": "jY7PE3HM1_Sw"
      },
      "source": [
        "If we want to display the distribution of a variable, we can use a histogram. For example, let's say we want to look at the distribution of FinishedArea in square feet."
      ]
    },
    {
      "cell_type": "code",
      "metadata": {
        "colab_type": "code",
        "id": "eMD-W-yc1_Sx",
        "outputId": "95b76f1c-3859-464f-b561-8f7b0008586b",
        "colab": {
          "base_uri": "https://localhost:8080/",
          "height": 281
        }
      },
      "source": [
        "fig = houses_2009['FinishedArea'].plot.hist(figsize = (10,4))\n",
        "fig.set_title('Distribution of Homes by FinishedArea in Square Feet', fontweight = 'bold');"
      ],
      "execution_count": 0,
      "outputs": [
        {
          "output_type": "display_data",
          "data": {
            "image/png": "[encoded data removed]",
            "text/plain": [
              "<Figure size 720x288 with 1 Axes>"
            ]
          },
          "metadata": {
            "tags": []
          }
        }
      ]
    },
    {
      "cell_type": "markdown",
      "metadata": {
        "colab_type": "text",
        "id": "Cxvl6giz1_Sz"
      },
      "source": [
        "We get some extreme square footages - let's investigate."
      ]
    },
    {
      "cell_type": "markdown",
      "metadata": {
        "colab_type": "text",
        "id": "DrnNSAC-1_S0"
      },
      "source": [
        "Let's narrow down the dataset we use in order to get a more informative histogram. Notice too that we can adjust the number of bins to further improve the histogram."
      ]
    },
    {
      "cell_type": "code",
      "metadata": {
        "colab_type": "code",
        "id": "Vwh5KPzT1_S1",
        "outputId": "736be4f0-c061-4644-f7e7-696a213d75c1",
        "colab": {
          "base_uri": "https://localhost:8080/",
          "height": 281
        }
      },
      "source": [
        "houses_2009.loc[houses_2009['FinishedArea'] < 50000]['FinishedArea'].plot.hist(figsize = (10,4), bins = 5)\n",
        "plt.title('Distribution of Homes by Square Footage', fontweight = 'bold');"
      ],
      "execution_count": 0,
      "outputs": [
        {
          "output_type": "display_data",
          "data": {
            "image/png": "[encoded data removed]",
            "text/plain": [
              "<Figure size 720x288 with 1 Axes>"
            ]
          },
          "metadata": {
            "tags": []
          }
        }
      ]
    },
    {
      "cell_type": "code",
      "metadata": {
        "id": "0y8UKe65Orc7",
        "colab_type": "code",
        "outputId": "5354f7d0-ade3-4701-f6e4-43fb1ca67af3",
        "colab": {
          "base_uri": "https://localhost:8080/",
          "height": 173
        }
      },
      "source": [
        "# Use .describe() to help determine the distribution of Finished area\n",
        "houses_2009['FinishedArea'].describe()"
      ],
      "execution_count": 0,
      "outputs": [
        {
          "output_type": "execute_result",
          "data": {
            "text/plain": [
              "count    183406.000000\n",
              "mean       1781.970022\n",
              "std         989.135767\n",
              "min           0.000000\n",
              "25%        1164.000000\n",
              "50%        1540.000000\n",
              "75%        2105.500000\n",
              "max       40418.000000\n",
              "Name: FinishedArea, dtype: float64"
            ]
          },
          "metadata": {
            "tags": []
          },
          "execution_count": 29
        }
      ]
    },
    {
      "cell_type": "markdown",
      "metadata": {
        "colab_type": "text",
        "id": "yUvwa4-w1_S3"
      },
      "source": [
        "We can also put two histograms on the same plot in order to compare two distributions. Let's say we want to compare the distribution of appraisal values from 2009 to 2017."
      ]
    },
    {
      "cell_type": "code",
      "metadata": {
        "colab_type": "code",
        "id": "N_CMLrsB1_S4",
        "outputId": "ac2e598a-136c-4295-bac6-4f7db26020c1",
        "colab": {
          "base_uri": "https://localhost:8080/",
          "height": 278
        }
      },
      "source": [
        "houses_2009['TOTALAPPR'].plot.hist();"
      ],
      "execution_count": 0,
      "outputs": [
        {
          "output_type": "display_data",
          "data": {
            "image/png": "[encoded data removed]",
            "text/plain": [
              "<Figure size 432x288 with 1 Axes>"
            ]
          },
          "metadata": {
            "tags": []
          }
        }
      ]
    },
    {
      "cell_type": "code",
      "metadata": {
        "colab_type": "code",
        "id": "dW5g8Fri1_S6",
        "outputId": "f5028f48-3e1e-43d9-be11-82d6d56b994b",
        "colab": {
          "base_uri": "https://localhost:8080/",
          "height": 281
        }
      },
      "source": [
        "houses_2009.loc[houses_2009['TOTALAPPR'] < 5000000]['TOTALAPPR'].plot.hist(figsize = (10,4), bins = 5)\n",
        "plt.title('Distribution of Homes by Total Appraisal Value', fontweight = 'bold');"
      ],
      "execution_count": 0,
      "outputs": [
        {
          "output_type": "display_data",
          "data": {
            "image/png": "[encoded data removed]",
            "text/plain": [
              "<Figure size 720x288 with 1 Axes>"
            ]
          },
          "metadata": {
            "tags": []
          }
        }
      ]
    },
    {
      "cell_type": "markdown",
      "metadata": {
        "colab_type": "text",
        "id": "n3Gk7_If1_S-"
      },
      "source": [
        "In order to determine a good cutoff, we can use the `.describe()` method which gives summary statistics on our DataFrame."
      ]
    },
    {
      "cell_type": "code",
      "metadata": {
        "colab_type": "code",
        "id": "zhb3VDqv1_S-",
        "outputId": "7fa1302d-baa5-49d8-cd0f-24fa569effa0",
        "colab": {
          "base_uri": "https://localhost:8080/",
          "height": 173
        }
      },
      "source": [
        "houses_2009['TOTALAPPR'].describe()"
      ],
      "execution_count": 0,
      "outputs": [
        {
          "output_type": "execute_result",
          "data": {
            "text/plain": [
              "count    1.834060e+05\n",
              "mean     2.014891e+05\n",
              "std      2.229380e+05\n",
              "min      1.400000e+03\n",
              "25%      1.077000e+05\n",
              "50%      1.452000e+05\n",
              "75%      2.199000e+05\n",
              "max      1.037700e+07\n",
              "Name: TOTALAPPR, dtype: float64"
            ]
          },
          "metadata": {
            "tags": []
          },
          "execution_count": 32
        }
      ]
    },
    {
      "cell_type": "markdown",
      "metadata": {
        "colab_type": "text",
        "id": "w5zNrwif1_TA"
      },
      "source": [
        "We can see that 75% of homes are appraised at \\$220,000 or less."
      ]
    },
    {
      "cell_type": "code",
      "metadata": {
        "colab_type": "code",
        "id": "eLr1pwL-1_TB",
        "outputId": "39448ef8-5ddc-419a-a08a-e9a2efe1fc29",
        "colab": {
          "base_uri": "https://localhost:8080/",
          "height": 265
        }
      },
      "source": [
        "houses_2009.loc[houses_2009['TOTALAPPR'] <= 750000]['TOTALAPPR'].plot.hist(figsize = (10,4), bins = 50);"
      ],
      "execution_count": 0,
      "outputs": [
        {
          "output_type": "display_data",
          "data": {
            "image/png": "[encoded data removed]",
            "text/plain": [
              "<Figure size 720x288 with 1 Axes>"
            ]
          },
          "metadata": {
            "tags": []
          }
        }
      ]
    },
    {
      "cell_type": "markdown",
      "metadata": {
        "colab_type": "text",
        "id": "is1po1pC1_TC"
      },
      "source": [
        "With two histograms, we should set the alpha values lower to increase the transparency. It is also probably a good idea to normalize our histograms so they they are showing densities rather than counts."
      ]
    },
    {
      "cell_type": "code",
      "metadata": {
        "colab_type": "code",
        "id": "wQK_PS4A1_TD",
        "outputId": "59205f06-b71b-4981-f726-4f4bb0a9a25e",
        "colab": {
          "base_uri": "https://localhost:8080/",
          "height": 336
        }
      },
      "source": [
        "fig = houses_2009.loc[houses_2009['TOTALAPPR'] <= 750000]['TOTALAPPR'].plot.hist(bins = 50, alpha = 0.6, density = True, label = '2009', figsize = (10,5))\n",
        "houses_2017.loc[houses_2017['TOTALAPPR'] <= 750000]['TOTALAPPR'].plot.hist(bins = 50, alpha = 0.8, density = True, label = '2017');\n",
        "fig.axes.get_yaxis().set_visible(False)\n",
        "fig.set_title('Distribution of Appraisal Values, 2009 vs 2017');\n",
        "fig.legend();"
      ],
      "execution_count": 0,
      "outputs": [
        {
          "output_type": "display_data",
          "data": {
            "image/png": "[encoded data removed]",
            "text/plain": [
              "<Figure size 720x360 with 1 Axes>"
            ]
          },
          "metadata": {
            "tags": []
          }
        }
      ]
    },
    {
      "cell_type": "code",
      "metadata": {
        "colab_type": "code",
        "id": "xll4PF3c1_TF",
        "colab": {}
      },
      "source": [
        ""
      ],
      "execution_count": 0,
      "outputs": []
    }
  ]
}