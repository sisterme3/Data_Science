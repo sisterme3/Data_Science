{
  "nbformat": 4,
  "nbformat_minor": 0,
  "metadata": {
    "colab": {
      "name": "NB4_DigitalReasoningPeople.ipynb",
      "provenance": [],
      "toc_visible": true,
      "include_colab_link": true
    },
    "kernelspec": {
      "name": "python3",
      "display_name": "Python 3"
    }
  },
  "cells": [
    {
      "cell_type": "markdown",
      "metadata": {
        "id": "view-in-github",
        "colab_type": "text"
      },
      "source": [
        "<a href=\"https://colab.research.google.com/github/sisterme3/Data_Science/blob/master/NB4_DigitalReasoningPeople.ipynb\" target=\"_parent\"><img src=\"https://colab.research.google.com/assets/colab-badge.svg\" alt=\"Open In Colab\"/></a>"
      ]
    },
    {
      "cell_type": "markdown",
      "metadata": {
        "id": "yV_7j1LC0n0D",
        "colab_type": "text"
      },
      "source": [
        "## Parse Digital Reasoning Personnel Data \n",
        "### from LinkedIn.com and \n",
        "## Push the Data to a Pandas Dataframe"
      ]
    },
    {
      "cell_type": "code",
      "metadata": {
        "id": "f9Iep1hKfebH",
        "colab_type": "code",
        "outputId": "2993535d-9caa-41c9-81f3-eb679a63cc39",
        "colab": {
          "base_uri": "https://localhost:8080/",
          "height": 121
        }
      },
      "source": [
        "# Upload the data files from my github repository \n",
        "! git clone https://github.com/acreeg/linkedin_data.git"
      ],
      "execution_count": 3,
      "outputs": [
        {
          "output_type": "stream",
          "text": [
            "Cloning into 'linkedin_data'...\n",
            "remote: Enumerating objects: 3, done.\u001b[K\n",
            "remote: Counting objects: 100% (3/3), done.\u001b[K\n",
            "remote: Compressing objects: 100% (3/3), done.\u001b[K\n",
            "remote: Total 3 (delta 0), reused 0 (delta 0), pack-reused 0\u001b[K\n",
            "Unpacking objects: 100% (3/3), done.\n"
          ],
          "name": "stdout"
        }
      ]
    },
    {
      "cell_type": "markdown",
      "metadata": {
        "id": "Vr1HNGIr1iTO",
        "colab_type": "text"
      },
      "source": [
        "*   Import the necessary packages\n",
        "*   Open the html file\n",
        "*   Turn the html into soup\n",
        "\n",
        "\n",
        "\n",
        "\n"
      ]
    },
    {
      "cell_type": "code",
      "metadata": {
        "id": "8MkblVddoFi2",
        "colab_type": "code",
        "colab": {}
      },
      "source": [
        "# We will use pandas and datetime as we progress towards building the dataframe\n",
        "import pandas as pd\n",
        "import datetime\n",
        "today = str(datetime.datetime.now().date())\n",
        "\n",
        "# We will need requests and BeautifulSoup for scraping and parsing (respectively).\n",
        "# Actually we will not be scraping LinkedIn so we will not use requests at this time.\n",
        "import requests \n",
        "from bs4 import BeautifulSoup\n",
        "\n",
        "# Open the file to read the html\n",
        "html = open('linkedin_data/LinkedInDRDataPeople.html')\n",
        "\n",
        "# Turn the html into Soup ... an object that can be more easily accessed, read and parsed!\n",
        "soup = BeautifulSoup(html, 'lxml')"
      ],
      "execution_count": 0,
      "outputs": []
    },
    {
      "cell_type": "code",
      "metadata": {
        "id": "D1M9pSSKlggI",
        "colab_type": "code",
        "outputId": "2b8242ce-6f9d-4ae1-d0ee-cae2f5c6db98",
        "colab": {
          "base_uri": "https://localhost:8080/",
          "height": 54
        }
      },
      "source": [
        "''' \n",
        "Note: When we are scraping a web site we would typically use the following format,\n",
        "to scrape the html from a specific URL (address)\n",
        "\n",
        "# Scrape (get) the website for which you have interest\n",
        "response = requests.get('https://www.linkedin.com/path-to-info-of-interest')\n",
        "\n",
        "# Turn the response into a readable object\n",
        "html = response.content\n",
        "\n",
        "# Turn the html into Soup ... an object that can be more easily accessed, read and parsed!\n",
        "soup = BeautifulSoup(html, 'lxml')\n",
        "\n",
        "'''"
      ],
      "execution_count": 5,
      "outputs": [
        {
          "output_type": "execute_result",
          "data": {
            "text/plain": [
              "\" \\nNote: When we are scraping a web site we would typically use the following format,\\nto scrape the html from a specific URL (address)\\n\\n# Scrape (get) the website for which you have interest\\nresponse = requests.get('https://www.linkedin.com/path-to-info-of-interest')\\n\\n# Turn the response into a readable object\\nhtml = response.content\\n\\n# Turn the html into Soup ... an object that can be more easily accessed, read and parsed!\\nsoup = BeautifulSoup(html, 'lxml')\\n\\n\""
            ]
          },
          "metadata": {
            "tags": []
          },
          "execution_count": 5
        }
      ]
    },
    {
      "cell_type": "markdown",
      "metadata": {
        "id": "RKwGj_5-Bd-v",
        "colab_type": "text"
      },
      "source": [
        "### Inspect the html to determine the data you will extract.\n",
        "This should be done in the browser initially, and can then be continued within the notebook as in the code cell below. You may also want to add a few notes."
      ]
    },
    {
      "cell_type": "markdown",
      "metadata": {
        "id": "riecrenNDQk5",
        "colab_type": "text"
      },
      "source": [
        "Notes here:\n",
        "* employee  \n",
        "<div class=\"full_name\" id=\"ember308\">\n",
        "         Christi L. French\n",
        "<!-- -->\n",
        "</div>\n",
        "\n",
        "* company\n",
        "\n",
        "* location\n",
        "Franklin, Tennessee\n",
        "\n",
        "* position\n",
        "\n",
        " <div class=\"position_title\" id=\"ember311\" style=\"-webkit-line-clamp: 2\">\n",
        "         Director, Data Science - Healthcare at Digital Reasoning\n",
        "         <!-- -->\n",
        "         </div>\n",
        "\n",
        "* date\n",
        "Jan 30, 2020"
      ]
    },
    {
      "cell_type": "code",
      "metadata": {
        "id": "kWWSS6znBobo",
        "colab_type": "code",
        "outputId": "cfa3db81-4545-483f-e084-4acbff889f3c",
        "colab": {
          "base_uri": "https://localhost:8080/",
          "height": 1000
        }
      },
      "source": [
        "# Through the inspection above, you should find \n",
        "# the primary point of interest in the html\n",
        "\n",
        "#print(soup.prettify()[:2000])\n",
        "\n",
        "# print an example so that you can begin to parse the html \n",
        "# to find the information of interest\n",
        "print(soup.find('li',{'class':'professional_person'}).prettify())\n",
        "\n",
        "#print(soup.find_all('li',{'class':'professional_person'})[0].prettify())"
      ],
      "execution_count": 6,
      "outputs": [
        {
          "output_type": "stream",
          "text": [
            "<li class=\"professional_person\">\n",
            " <div class=\"org-people-profile-card ember-view\" id=\"ember299\">\n",
            "  <section class=\"artdeco-card artdeco-card--with-hover ember-view\" id=\"ember300\">\n",
            "   <!-- -->\n",
            "   <div class=\"org-people-profile-card__profile-info\">\n",
            "    <artdeco-entity-lockup class=\"artdeco-entity-lockup--stacked-center artdeco-entity-lockup--size-5 artdeco-entity-lockup ember-view\" id=\"ember301\" size=\"5\" stacked=\"center\">\n",
            "     <artdeco-entity-lockup-image class=\"artdeco-entity-lockup__image artdeco-entity-lockup__image--type-circle ember-view\" id=\"ember302\" type=\"circle\">\n",
            "      <a class=\"ember-view\" data-control-name=\"people_profile_card_image_link\" href=\"/in/christi-l-french-450b2819/\" id=\"ember303\">\n",
            "       <img alt=\"Christi L.’s profile picture\" class=\"lazy-image loaded ember-view\" height=\"72\" id=\"ember304\" src=\"https://media-exp1.licdn.com/dms/image/C4D03AQFciM_-4VPzQw/profile-displayphoto-shrink_100_100/0?e=1585785600&amp;v=beta&amp;t=VwRVo5mlBQuF0qdoK5OHpPFh5O6fYmC7pOUo8WWniII\" width=\"72\"/>\n",
            "      </a>\n",
            "     </artdeco-entity-lockup-image>\n",
            "     <artdeco-entity-lockup-content class=\"artdeco-entity-lockup__content ember-view\" id=\"ember305\">\n",
            "      <artdeco-entity-lockup-title class=\"artdeco-entity-lockup__title ember-view\" id=\"ember306\">\n",
            "       <a class=\"link-without-visited-state ember-view\" data-control-name=\"people_profile_card_name_link\" href=\"/in/christi-l-french-450b2819/\" id=\"ember307\">\n",
            "        <div class=\"full_name\" id=\"ember308\">\n",
            "         Christi L. French\n",
            "         <!-- -->\n",
            "        </div>\n",
            "       </a>\n",
            "      </artdeco-entity-lockup-title>\n",
            "      <artdeco-entity-lockup-badge class=\"artdeco-entity-lockup__badge ember-view\" id=\"ember309\">\n",
            "       <span class=\"a11y-text\">\n",
            "        2nd degree connection\n",
            "       </span>\n",
            "       <span aria-hidden=\"true\" class=\"artdeco-entity-lockup__degree\">\n",
            "        · 2nd\n",
            "       </span>\n",
            "       <!-- -->\n",
            "       <!-- -->\n",
            "      </artdeco-entity-lockup-badge>\n",
            "      <artdeco-entity-lockup-subtitle class=\"artdeco-entity-lockup__subtitle ember-view\" id=\"ember310\">\n",
            "       <div class=\"t-14 t-black--light t-normal\">\n",
            "        <div class=\"position_title\" id=\"ember311\" style=\"-webkit-line-clamp: 2\">\n",
            "         Director, Data Science - Healthcare at Digital Reasoning\n",
            "         <!-- -->\n",
            "        </div>\n",
            "       </div>\n",
            "      </artdeco-entity-lockup-subtitle>\n",
            "      <artdeco-entity-lockup-caption class=\"artdeco-entity-lockup__caption ember-view\" id=\"ember312\">\n",
            "       <!-- -->\n",
            "      </artdeco-entity-lockup-caption>\n",
            "     </artdeco-entity-lockup-content>\n",
            "    </artdeco-entity-lockup>\n",
            "    <span>\n",
            "     <img alt=\"Paul’s profile picture\" class=\"round-image EntityPhoto-circle-1 v-align-middle lazy-image loaded ember-view\" height=\"72\" id=\"ember313\" src=\"https://media-exp1.licdn.com/dms/image/C4E03AQGJAEzlux4-gQ/profile-displayphoto-shrink_100_100/0?e=1585785600&amp;v=beta&amp;t=wjPibZAztJXl2RGyJXjr_MisCPjKHuvSAp81O4qx2P4\" width=\"72\"/>\n",
            "     <span class=\"t-12 t-black t-bold\">\n",
            "      20 shared connections\n",
            "     </span>\n",
            "    </span>\n",
            "   </div>\n",
            "   <footer class=\"artdeco-card__actions\">\n",
            "    <button class=\"artdeco-button artdeco-button--3 artdeco-button--fluid artdeco-button--tertiary ember-view\" data-control-name=\"people_profile_card_connect_button\" id=\"ember314\">\n",
            "     <!-- -->\n",
            "     <span class=\"artdeco-button__text\">\n",
            "      Connect\n",
            "     </span>\n",
            "    </button>\n",
            "   </footer>\n",
            "  </section>\n",
            " </div>\n",
            "</li>\n",
            "\n"
          ],
          "name": "stdout"
        }
      ]
    },
    {
      "cell_type": "markdown",
      "metadata": {
        "id": "TYKculXsBpI2",
        "colab_type": "text"
      },
      "source": [
        "### Examine the html tags closely to determine precisely where each piece of data is located.\n"
      ]
    },
    {
      "cell_type": "markdown",
      "metadata": {
        "id": "AUofKMT8ErnU",
        "colab_type": "text"
      },
      "source": [
        "\n",
        "### employee\n",
        "\n",
        "### company\n",
        "\n",
        "### location\n",
        " \n",
        "### position\n",
        "\n",
        "### date\n",
        "\n",
        "Not in the website ... must import datetime"
      ]
    },
    {
      "cell_type": "markdown",
      "metadata": {
        "colab_type": "text",
        "id": "r17QQSduIFZs"
      },
      "source": [
        "### Initialize an empty list 'professionals' to hold your data ... one dictionary (of key/value pairs) per row  \n"
      ]
    },
    {
      "cell_type": "code",
      "metadata": {
        "id": "gt597-XbB-99",
        "colab_type": "code",
        "colab": {}
      },
      "source": [
        "professionals = []"
      ],
      "execution_count": 0,
      "outputs": []
    },
    {
      "cell_type": "markdown",
      "metadata": {
        "id": "EvU0XTFVB_Oj",
        "colab_type": "text"
      },
      "source": [
        "### Loop through all of the 'professional_persons' ... and create a complete outline of the data you plan to collect assigning each data element a temporary string until it can be replaced by the actual data. Example: title = 'This is the position title'. End the loop by appending the new row (as a dictionary) to 'professionals'. Finally, once the loop is completed create a dataframe 'DRPeople' from postings.\n",
        " "
      ]
    },
    {
      "cell_type": "code",
      "metadata": {
        "id": "AXyHtBn6CChX",
        "colab_type": "code",
        "outputId": "93c558f6-51df-4a89-9b22-cab60af7bee1",
        "colab": {
          "base_uri": "https://localhost:8080/",
          "height": 424
        }
      },
      "source": [
        "professionals = []\n",
        "\n",
        "for persons in soup.find_all('li',{'class':'professional_person'}):\n",
        "  employee = 'Wonderful Person'\n",
        "  position = \"This is the positions title\"\n",
        "  company = \"Great Organization\"\n",
        "  location = \"City and State\"\n",
        "  date = today\n",
        "\n",
        "  professionals.append({'Employee': employee, 'Position': position, 'Company': company, 'Location': location, 'Date': date})\n",
        "\n",
        "DRPeople = pd.DataFrame(professionals)\n",
        "DRPeople"
      ],
      "execution_count": 8,
      "outputs": [
        {
          "output_type": "execute_result",
          "data": {
            "text/html": [
              "<div>\n",
              "<style scoped>\n",
              "    .dataframe tbody tr th:only-of-type {\n",
              "        vertical-align: middle;\n",
              "    }\n",
              "\n",
              "    .dataframe tbody tr th {\n",
              "        vertical-align: top;\n",
              "    }\n",
              "\n",
              "    .dataframe thead th {\n",
              "        text-align: right;\n",
              "    }\n",
              "</style>\n",
              "<table border=\"1\" class=\"dataframe\">\n",
              "  <thead>\n",
              "    <tr style=\"text-align: right;\">\n",
              "      <th></th>\n",
              "      <th>Employee</th>\n",
              "      <th>Position</th>\n",
              "      <th>Company</th>\n",
              "      <th>Location</th>\n",
              "      <th>Date</th>\n",
              "    </tr>\n",
              "  </thead>\n",
              "  <tbody>\n",
              "    <tr>\n",
              "      <th>0</th>\n",
              "      <td>Wonderful Person</td>\n",
              "      <td>This is the positions title</td>\n",
              "      <td>Great Organization</td>\n",
              "      <td>City and State</td>\n",
              "      <td>2020-02-04</td>\n",
              "    </tr>\n",
              "    <tr>\n",
              "      <th>1</th>\n",
              "      <td>Wonderful Person</td>\n",
              "      <td>This is the positions title</td>\n",
              "      <td>Great Organization</td>\n",
              "      <td>City and State</td>\n",
              "      <td>2020-02-04</td>\n",
              "    </tr>\n",
              "    <tr>\n",
              "      <th>2</th>\n",
              "      <td>Wonderful Person</td>\n",
              "      <td>This is the positions title</td>\n",
              "      <td>Great Organization</td>\n",
              "      <td>City and State</td>\n",
              "      <td>2020-02-04</td>\n",
              "    </tr>\n",
              "    <tr>\n",
              "      <th>3</th>\n",
              "      <td>Wonderful Person</td>\n",
              "      <td>This is the positions title</td>\n",
              "      <td>Great Organization</td>\n",
              "      <td>City and State</td>\n",
              "      <td>2020-02-04</td>\n",
              "    </tr>\n",
              "    <tr>\n",
              "      <th>4</th>\n",
              "      <td>Wonderful Person</td>\n",
              "      <td>This is the positions title</td>\n",
              "      <td>Great Organization</td>\n",
              "      <td>City and State</td>\n",
              "      <td>2020-02-04</td>\n",
              "    </tr>\n",
              "    <tr>\n",
              "      <th>...</th>\n",
              "      <td>...</td>\n",
              "      <td>...</td>\n",
              "      <td>...</td>\n",
              "      <td>...</td>\n",
              "      <td>...</td>\n",
              "    </tr>\n",
              "    <tr>\n",
              "      <th>128</th>\n",
              "      <td>Wonderful Person</td>\n",
              "      <td>This is the positions title</td>\n",
              "      <td>Great Organization</td>\n",
              "      <td>City and State</td>\n",
              "      <td>2020-02-04</td>\n",
              "    </tr>\n",
              "    <tr>\n",
              "      <th>129</th>\n",
              "      <td>Wonderful Person</td>\n",
              "      <td>This is the positions title</td>\n",
              "      <td>Great Organization</td>\n",
              "      <td>City and State</td>\n",
              "      <td>2020-02-04</td>\n",
              "    </tr>\n",
              "    <tr>\n",
              "      <th>130</th>\n",
              "      <td>Wonderful Person</td>\n",
              "      <td>This is the positions title</td>\n",
              "      <td>Great Organization</td>\n",
              "      <td>City and State</td>\n",
              "      <td>2020-02-04</td>\n",
              "    </tr>\n",
              "    <tr>\n",
              "      <th>131</th>\n",
              "      <td>Wonderful Person</td>\n",
              "      <td>This is the positions title</td>\n",
              "      <td>Great Organization</td>\n",
              "      <td>City and State</td>\n",
              "      <td>2020-02-04</td>\n",
              "    </tr>\n",
              "    <tr>\n",
              "      <th>132</th>\n",
              "      <td>Wonderful Person</td>\n",
              "      <td>This is the positions title</td>\n",
              "      <td>Great Organization</td>\n",
              "      <td>City and State</td>\n",
              "      <td>2020-02-04</td>\n",
              "    </tr>\n",
              "  </tbody>\n",
              "</table>\n",
              "<p>133 rows × 5 columns</p>\n",
              "</div>"
            ],
            "text/plain": [
              "             Employee                     Position  ...        Location        Date\n",
              "0    Wonderful Person  This is the positions title  ...  City and State  2020-02-04\n",
              "1    Wonderful Person  This is the positions title  ...  City and State  2020-02-04\n",
              "2    Wonderful Person  This is the positions title  ...  City and State  2020-02-04\n",
              "3    Wonderful Person  This is the positions title  ...  City and State  2020-02-04\n",
              "4    Wonderful Person  This is the positions title  ...  City and State  2020-02-04\n",
              "..                ...                          ...  ...             ...         ...\n",
              "128  Wonderful Person  This is the positions title  ...  City and State  2020-02-04\n",
              "129  Wonderful Person  This is the positions title  ...  City and State  2020-02-04\n",
              "130  Wonderful Person  This is the positions title  ...  City and State  2020-02-04\n",
              "131  Wonderful Person  This is the positions title  ...  City and State  2020-02-04\n",
              "132  Wonderful Person  This is the positions title  ...  City and State  2020-02-04\n",
              "\n",
              "[133 rows x 5 columns]"
            ]
          },
          "metadata": {
            "tags": []
          },
          "execution_count": 8
        }
      ]
    },
    {
      "cell_type": "markdown",
      "metadata": {
        "id": "5LM47FQpCCuX",
        "colab_type": "text"
      },
      "source": [
        "### One by one, replace the temporary string with the actual data ... and test the output. Be prepared to continue to explore the html, informed by bugs detected when running your code."
      ]
    },
    {
      "cell_type": "code",
      "metadata": {
        "id": "Wo3dje21z4H3",
        "colab_type": "code",
        "outputId": "b68165c3-2ca0-4f4d-8cff-5237b2e32939",
        "colab": {
          "base_uri": "https://localhost:8080/",
          "height": 424
        }
      },
      "source": [
        "professionals = []\n",
        "\n",
        "for persons in soup.find_all('li',{'class':'professional_person'}):\n",
        "  employee = 'Wonderful Person'\n",
        "  position = \"This is the positions title\"\n",
        "  company = \"Digital Reasoning\"\n",
        "  location = \"Nashville, Tennessee\"\n",
        "  date = today\n",
        "\n",
        "  professionals.append({'Employee': employee, 'Position': position, 'Company': company, 'Location': location, 'Date': date})\n",
        "\n",
        "DRPeople = pd.DataFrame(professionals)\n",
        "DRPeople"
      ],
      "execution_count": 9,
      "outputs": [
        {
          "output_type": "execute_result",
          "data": {
            "text/html": [
              "<div>\n",
              "<style scoped>\n",
              "    .dataframe tbody tr th:only-of-type {\n",
              "        vertical-align: middle;\n",
              "    }\n",
              "\n",
              "    .dataframe tbody tr th {\n",
              "        vertical-align: top;\n",
              "    }\n",
              "\n",
              "    .dataframe thead th {\n",
              "        text-align: right;\n",
              "    }\n",
              "</style>\n",
              "<table border=\"1\" class=\"dataframe\">\n",
              "  <thead>\n",
              "    <tr style=\"text-align: right;\">\n",
              "      <th></th>\n",
              "      <th>Employee</th>\n",
              "      <th>Position</th>\n",
              "      <th>Company</th>\n",
              "      <th>Location</th>\n",
              "      <th>Date</th>\n",
              "    </tr>\n",
              "  </thead>\n",
              "  <tbody>\n",
              "    <tr>\n",
              "      <th>0</th>\n",
              "      <td>Wonderful Person</td>\n",
              "      <td>This is the positions title</td>\n",
              "      <td>Digital Reasoning</td>\n",
              "      <td>Nashville, Tennessee</td>\n",
              "      <td>2020-02-04</td>\n",
              "    </tr>\n",
              "    <tr>\n",
              "      <th>1</th>\n",
              "      <td>Wonderful Person</td>\n",
              "      <td>This is the positions title</td>\n",
              "      <td>Digital Reasoning</td>\n",
              "      <td>Nashville, Tennessee</td>\n",
              "      <td>2020-02-04</td>\n",
              "    </tr>\n",
              "    <tr>\n",
              "      <th>2</th>\n",
              "      <td>Wonderful Person</td>\n",
              "      <td>This is the positions title</td>\n",
              "      <td>Digital Reasoning</td>\n",
              "      <td>Nashville, Tennessee</td>\n",
              "      <td>2020-02-04</td>\n",
              "    </tr>\n",
              "    <tr>\n",
              "      <th>3</th>\n",
              "      <td>Wonderful Person</td>\n",
              "      <td>This is the positions title</td>\n",
              "      <td>Digital Reasoning</td>\n",
              "      <td>Nashville, Tennessee</td>\n",
              "      <td>2020-02-04</td>\n",
              "    </tr>\n",
              "    <tr>\n",
              "      <th>4</th>\n",
              "      <td>Wonderful Person</td>\n",
              "      <td>This is the positions title</td>\n",
              "      <td>Digital Reasoning</td>\n",
              "      <td>Nashville, Tennessee</td>\n",
              "      <td>2020-02-04</td>\n",
              "    </tr>\n",
              "    <tr>\n",
              "      <th>...</th>\n",
              "      <td>...</td>\n",
              "      <td>...</td>\n",
              "      <td>...</td>\n",
              "      <td>...</td>\n",
              "      <td>...</td>\n",
              "    </tr>\n",
              "    <tr>\n",
              "      <th>128</th>\n",
              "      <td>Wonderful Person</td>\n",
              "      <td>This is the positions title</td>\n",
              "      <td>Digital Reasoning</td>\n",
              "      <td>Nashville, Tennessee</td>\n",
              "      <td>2020-02-04</td>\n",
              "    </tr>\n",
              "    <tr>\n",
              "      <th>129</th>\n",
              "      <td>Wonderful Person</td>\n",
              "      <td>This is the positions title</td>\n",
              "      <td>Digital Reasoning</td>\n",
              "      <td>Nashville, Tennessee</td>\n",
              "      <td>2020-02-04</td>\n",
              "    </tr>\n",
              "    <tr>\n",
              "      <th>130</th>\n",
              "      <td>Wonderful Person</td>\n",
              "      <td>This is the positions title</td>\n",
              "      <td>Digital Reasoning</td>\n",
              "      <td>Nashville, Tennessee</td>\n",
              "      <td>2020-02-04</td>\n",
              "    </tr>\n",
              "    <tr>\n",
              "      <th>131</th>\n",
              "      <td>Wonderful Person</td>\n",
              "      <td>This is the positions title</td>\n",
              "      <td>Digital Reasoning</td>\n",
              "      <td>Nashville, Tennessee</td>\n",
              "      <td>2020-02-04</td>\n",
              "    </tr>\n",
              "    <tr>\n",
              "      <th>132</th>\n",
              "      <td>Wonderful Person</td>\n",
              "      <td>This is the positions title</td>\n",
              "      <td>Digital Reasoning</td>\n",
              "      <td>Nashville, Tennessee</td>\n",
              "      <td>2020-02-04</td>\n",
              "    </tr>\n",
              "  </tbody>\n",
              "</table>\n",
              "<p>133 rows × 5 columns</p>\n",
              "</div>"
            ],
            "text/plain": [
              "             Employee  ...        Date\n",
              "0    Wonderful Person  ...  2020-02-04\n",
              "1    Wonderful Person  ...  2020-02-04\n",
              "2    Wonderful Person  ...  2020-02-04\n",
              "3    Wonderful Person  ...  2020-02-04\n",
              "4    Wonderful Person  ...  2020-02-04\n",
              "..                ...  ...         ...\n",
              "128  Wonderful Person  ...  2020-02-04\n",
              "129  Wonderful Person  ...  2020-02-04\n",
              "130  Wonderful Person  ...  2020-02-04\n",
              "131  Wonderful Person  ...  2020-02-04\n",
              "132  Wonderful Person  ...  2020-02-04\n",
              "\n",
              "[133 rows x 5 columns]"
            ]
          },
          "metadata": {
            "tags": []
          },
          "execution_count": 9
        }
      ]
    },
    {
      "cell_type": "code",
      "metadata": {
        "id": "ZB3E2sfHz4NU",
        "colab_type": "code",
        "colab": {
          "base_uri": "https://localhost:8080/",
          "height": 424
        },
        "outputId": "9e363725-9094-4770-8c9e-94d1bde5bd1d"
      },
      "source": [
        "professionals = []\n",
        "\n",
        "for persons in soup.find_all('li',{'class':'professional_person'}):\n",
        "  employee = persons.find('div',{'class':'full_name'}).next_element.strip()\n",
        "  position = persons.find('div',{'class':'position_title'}).next_element.strip().split(' at ')[0]\n",
        "  company = persons.find('div',{'class':'position_title'}).next_element.strip().split(' at ')[-1]\n",
        "  location = \"Nashville, Tennessee\"\n",
        "  date = today\n",
        "\n",
        "  professionals.append({'Employee': employee, 'Position': position, 'Company': company, 'Location': location, 'Date': date})\n",
        "\n",
        "DRPeople = pd.DataFrame(professionals)\n",
        "DRPeople"
      ],
      "execution_count": 19,
      "outputs": [
        {
          "output_type": "execute_result",
          "data": {
            "text/html": [
              "<div>\n",
              "<style scoped>\n",
              "    .dataframe tbody tr th:only-of-type {\n",
              "        vertical-align: middle;\n",
              "    }\n",
              "\n",
              "    .dataframe tbody tr th {\n",
              "        vertical-align: top;\n",
              "    }\n",
              "\n",
              "    .dataframe thead th {\n",
              "        text-align: right;\n",
              "    }\n",
              "</style>\n",
              "<table border=\"1\" class=\"dataframe\">\n",
              "  <thead>\n",
              "    <tr style=\"text-align: right;\">\n",
              "      <th></th>\n",
              "      <th>Employee</th>\n",
              "      <th>Position</th>\n",
              "      <th>Company</th>\n",
              "      <th>Location</th>\n",
              "      <th>Date</th>\n",
              "    </tr>\n",
              "  </thead>\n",
              "  <tbody>\n",
              "    <tr>\n",
              "      <th>0</th>\n",
              "      <td>Christi L. French</td>\n",
              "      <td>Director, Data Science - Healthcare</td>\n",
              "      <td>Digital Reasoning</td>\n",
              "      <td>Nashville, Tennessee</td>\n",
              "      <td>2020-02-04</td>\n",
              "    </tr>\n",
              "    <tr>\n",
              "      <th>1</th>\n",
              "      <td>Last Feremenga, Ph. D</td>\n",
              "      <td>Senior Data Scientist</td>\n",
              "      <td>Digital Reasoning</td>\n",
              "      <td>Nashville, Tennessee</td>\n",
              "      <td>2020-02-04</td>\n",
              "    </tr>\n",
              "    <tr>\n",
              "      <th>2</th>\n",
              "      <td>Michael Chapman</td>\n",
              "      <td>Data Visualization Engineer</td>\n",
              "      <td>Digital Reasoning</td>\n",
              "      <td>Nashville, Tennessee</td>\n",
              "      <td>2020-02-04</td>\n",
              "    </tr>\n",
              "    <tr>\n",
              "      <th>3</th>\n",
              "      <td>Mitch Naylor</td>\n",
              "      <td>Data Scientist</td>\n",
              "      <td>Digital Reasoning</td>\n",
              "      <td>Nashville, Tennessee</td>\n",
              "      <td>2020-02-04</td>\n",
              "    </tr>\n",
              "    <tr>\n",
              "      <th>4</th>\n",
              "      <td>Nupur Sashti</td>\n",
              "      <td>Data Strategist</td>\n",
              "      <td>Digital Reasoning</td>\n",
              "      <td>Nashville, Tennessee</td>\n",
              "      <td>2020-02-04</td>\n",
              "    </tr>\n",
              "    <tr>\n",
              "      <th>...</th>\n",
              "      <td>...</td>\n",
              "      <td>...</td>\n",
              "      <td>...</td>\n",
              "      <td>...</td>\n",
              "      <td>...</td>\n",
              "    </tr>\n",
              "    <tr>\n",
              "      <th>128</th>\n",
              "      <td>Victor Gan, TOGAF, RMC, MBA</td>\n",
              "      <td>Snr Solutions Architect</td>\n",
              "      <td>Digital Reasoning</td>\n",
              "      <td>Nashville, Tennessee</td>\n",
              "      <td>2020-02-04</td>\n",
              "    </tr>\n",
              "    <tr>\n",
              "      <th>129</th>\n",
              "      <td>Gordon Crawford</td>\n",
              "      <td>Senior Staff DevOps Engineer</td>\n",
              "      <td>Digital Reasoning</td>\n",
              "      <td>Nashville, Tennessee</td>\n",
              "      <td>2020-02-04</td>\n",
              "    </tr>\n",
              "    <tr>\n",
              "      <th>130</th>\n",
              "      <td>Mark Doherty</td>\n",
              "      <td>Senior Staff Architect</td>\n",
              "      <td>Digital Reasoning</td>\n",
              "      <td>Nashville, Tennessee</td>\n",
              "      <td>2020-02-04</td>\n",
              "    </tr>\n",
              "    <tr>\n",
              "      <th>131</th>\n",
              "      <td>Sriji Sivadasan</td>\n",
              "      <td>Senior Premier Support Engineer</td>\n",
              "      <td>Digital Reasoning</td>\n",
              "      <td>Nashville, Tennessee</td>\n",
              "      <td>2020-02-04</td>\n",
              "    </tr>\n",
              "    <tr>\n",
              "      <th>132</th>\n",
              "      <td>Naibai Zhang</td>\n",
              "      <td>Software engineer, expert services.</td>\n",
              "      <td>Software engineer, expert services.</td>\n",
              "      <td>Nashville, Tennessee</td>\n",
              "      <td>2020-02-04</td>\n",
              "    </tr>\n",
              "  </tbody>\n",
              "</table>\n",
              "<p>133 rows × 5 columns</p>\n",
              "</div>"
            ],
            "text/plain": [
              "                        Employee  ...        Date\n",
              "0              Christi L. French  ...  2020-02-04\n",
              "1          Last Feremenga, Ph. D  ...  2020-02-04\n",
              "2                Michael Chapman  ...  2020-02-04\n",
              "3                   Mitch Naylor  ...  2020-02-04\n",
              "4                   Nupur Sashti  ...  2020-02-04\n",
              "..                           ...  ...         ...\n",
              "128  Victor Gan, TOGAF, RMC, MBA  ...  2020-02-04\n",
              "129              Gordon Crawford  ...  2020-02-04\n",
              "130                 Mark Doherty  ...  2020-02-04\n",
              "131              Sriji Sivadasan  ...  2020-02-04\n",
              "132                 Naibai Zhang  ...  2020-02-04\n",
              "\n",
              "[133 rows x 5 columns]"
            ]
          },
          "metadata": {
            "tags": []
          },
          "execution_count": 19
        }
      ]
    },
    {
      "cell_type": "code",
      "metadata": {
        "id": "BDBCbFizz4Sh",
        "colab_type": "code",
        "colab": {}
      },
      "source": [
        ""
      ],
      "execution_count": 0,
      "outputs": []
    },
    {
      "cell_type": "code",
      "metadata": {
        "id": "_eZDmXBKz4Yx",
        "colab_type": "code",
        "colab": {}
      },
      "source": [
        ""
      ],
      "execution_count": 0,
      "outputs": []
    },
    {
      "cell_type": "code",
      "metadata": {
        "id": "EILK914pz4e8",
        "colab_type": "code",
        "colab": {}
      },
      "source": [
        ""
      ],
      "execution_count": 0,
      "outputs": []
    }
  ]
}