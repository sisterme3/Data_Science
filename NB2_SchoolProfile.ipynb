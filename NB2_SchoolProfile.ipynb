{
  "nbformat": 4,
  "nbformat_minor": 0,
  "metadata": {
    "colab": {
      "name": "NB2_SchoolProfile.ipynb",
      "provenance": [],
      "collapsed_sections": [],
      "include_colab_link": true
    },
    "kernelspec": {
      "name": "python3",
      "display_name": "Python 3"
    }
  },
  "cells": [
    {
      "cell_type": "markdown",
      "metadata": {
        "id": "view-in-github",
        "colab_type": "text"
      },
      "source": [
        "<a href=\"https://colab.research.google.com/github/sisterme3/Data_Science/blob/master/NB2_SchoolProfile.ipynb\" target=\"_parent\"><img src=\"https://colab.research.google.com/assets/colab-badge.svg\" alt=\"Open In Colab\"/></a>"
      ]
    },
    {
      "cell_type": "markdown",
      "metadata": {
        "id": "i4JWqKuTeZNW",
        "colab_type": "text"
      },
      "source": [
        "### NB2_SchoolProfile"
      ]
    },
    {
      "cell_type": "markdown",
      "metadata": {
        "id": "1e8yg_wrnlqJ",
        "colab_type": "text"
      },
      "source": [
        "The Essentials:\n",
        "*   Upload the data"
      ]
    },
    {
      "cell_type": "code",
      "metadata": {
        "id": "_b_d3Kcv-I9E",
        "colab_type": "code",
        "outputId": "7105492c-7dfc-4239-8d72-526d5b155e55",
        "colab": {
          "base_uri": "https://localhost:8080/",
          "height": 121
        }
      },
      "source": [
        "# Upload the data files from my github repository \n",
        "! git clone https://github.com/acreeg/dsc1010-datasets.git"
      ],
      "execution_count": 0,
      "outputs": [
        {
          "output_type": "stream",
          "text": [
            "Cloning into 'dsc1010-datasets'...\n",
            "remote: Enumerating objects: 8, done.\u001b[K\n",
            "remote: Counting objects: 100% (8/8), done.\u001b[K\n",
            "remote: Compressing objects: 100% (6/6), done.\u001b[K\n",
            "remote: Total 8 (delta 0), reused 0 (delta 0), pack-reused 0\u001b[K\n",
            "Unpacking objects: 100% (8/8), done.\n"
          ],
          "name": "stdout"
        }
      ]
    },
    {
      "cell_type": "markdown",
      "metadata": {
        "id": "QXxKGQv5IfDR",
        "colab_type": "text"
      },
      "source": [
        "*   Import necessary packages"
      ]
    },
    {
      "cell_type": "code",
      "metadata": {
        "id": "KAyLOOlLekje",
        "colab_type": "code",
        "colab": {}
      },
      "source": [
        "#import pandas, the python package for data analytics\n",
        "import pandas as pd"
      ],
      "execution_count": 0,
      "outputs": []
    },
    {
      "cell_type": "markdown",
      "metadata": {
        "id": "5VGNzVivIjWx",
        "colab_type": "text"
      },
      "source": [
        "*   Create the dataframe"
      ]
    },
    {
      "cell_type": "code",
      "metadata": {
        "id": "m-6iFWlpfjA0",
        "colab_type": "code",
        "colab": {}
      },
      "source": [
        "# Read the data_2015_school_profile.xlsx data file into a pandas dataframe\n",
        "# Name the dataframe SchoolProfile \n",
        "filename = 'dsc1010-datasets/data_2015_school_profile.xlsx'\n",
        "SchoolProfile = pd.read_excel(filename)"
      ],
      "execution_count": 0,
      "outputs": []
    },
    {
      "cell_type": "code",
      "metadata": {
        "id": "im2eGWV1KPd4",
        "colab_type": "code",
        "colab": {}
      },
      "source": [
        "# Let's limit our exploration to High Schools\n",
        "HSProfile = SchoolProfile[SchoolProfile['GRADES_SERVED'] == 'Grades 9-12']"
      ],
      "execution_count": 0,
      "outputs": []
    },
    {
      "cell_type": "markdown",
      "metadata": {
        "id": "Sj0kkQTJVrFI",
        "colab_type": "text"
      },
      "source": [
        "What can we learn about HSProfile?\n",
        "*   Column names"
      ]
    },
    {
      "cell_type": "code",
      "metadata": {
        "id": "tMLfZPZVMLtp",
        "colab_type": "code",
        "outputId": "08d9fe3d-5b08-4452-d60d-f6d53ce21d73",
        "colab": {
          "base_uri": "https://localhost:8080/",
          "height": 278
        }
      },
      "source": [
        "HSProfile.columns"
      ],
      "execution_count": 0,
      "outputs": [
        {
          "output_type": "execute_result",
          "data": {
            "text/plain": [
              "Index(['YEAR', 'DISTRICT', 'DISTRICT_NAME', 'SCHOOL_NAME', 'SCHOOL_ID',\n",
              "       'GRADES_SERVED', 'SAFE_SCHOOL', 'AVERAGE_DAILY_MEMBERSHIP', 'TOTAL',\n",
              "       'WHITE', 'AFRICAN_AMERICAN', 'HISPANIC', 'ASIAN', 'NATIVE_AMERICAN',\n",
              "       'HAWAIIAN_PACISLD', 'MALE', 'FEMALE', 'WHITE_PCT',\n",
              "       'AFRICAN_AMERICAN_PCT', 'HISPANIC_PCT', 'ASIAN_PCT',\n",
              "       'NATIVE_AMERICAN_PCT', 'HAWAIIAN_PACISLD_PCT', 'MALE_PCT', 'FEMALE_PCT',\n",
              "       'WHITE_MALE', 'AFRICAN_AMERICAN_MALE', 'HISPANIC_MALE', 'ASIAN_MALE',\n",
              "       'NATIVE_AMERICAN_MALE', 'HAWAIIAN_PACISLD_MALE', 'WHITE_FEMALE',\n",
              "       'AFRICAN_AMERICAN_FEMALE', 'HISPANIC_FEMALE', 'ASIAN_FEMALE',\n",
              "       'NATIVE_AMERICAN_FEMALE', 'HAWAIIAN_PACISLD_FEMALE',\n",
              "       'LIMITED_ENGLISH_PROFICIENT_PCT', 'LIMITED_ENGLISH_PROFICIENT',\n",
              "       'NUMBER_EXEMPT_FROM_READING_ASSESSMENT', 'STUDENTS_WITH_DISABILITIES',\n",
              "       'STUDENTS_WITH_DISABILITIES_PCT', 'ECONOMICALLY_DISADVANTAGED',\n",
              "       'ECONOMICALLY_DISADVANTAGED_PCT'],\n",
              "      dtype='object')"
            ]
          },
          "metadata": {
            "tags": []
          },
          "execution_count": 6
        }
      ]
    },
    {
      "cell_type": "code",
      "metadata": {
        "id": "4cs-c4qqMdN2",
        "colab_type": "code",
        "outputId": "20073a75-a88e-461a-ef00-14fe87657243",
        "colab": {
          "base_uri": "https://localhost:8080/",
          "height": 225
        }
      },
      "source": [
        "# In order to select a single column from a dataframe\n",
        "# ... we use the form: dataframe['column_name']\n",
        "HSProfile['SCHOOL_NAME']"
      ],
      "execution_count": 0,
      "outputs": [
        {
          "output_type": "execute_result",
          "data": {
            "text/plain": [
              "2                      Anderson County High School\n",
              "3         Anderson County Career  Technical Center\n",
              "8                              Clinton High School\n",
              "27                           Oak Ridge High School\n",
              "33                             Cascade High School\n",
              "                           ...                    \n",
              "1925                                   All Schools\n",
              "1926                       Alvin C. York Institute\n",
              "1932                Tennessee High School For Deaf\n",
              "1951                           Fairley High School\n",
              "1953    Martin Luther King Preparatory High School\n",
              "Name: SCHOOL_NAME, Length: 317, dtype: object"
            ]
          },
          "metadata": {
            "tags": []
          },
          "execution_count": 21
        }
      ]
    },
    {
      "cell_type": "code",
      "metadata": {
        "id": "EXg4ABxwNDHE",
        "colab_type": "code",
        "colab": {}
      },
      "source": [
        "# In order to select 2 or more columns,\n",
        "# ... we need to create a list of column names\n",
        "# For a list we use the following form:\n",
        "Columns = ['YEAR', 'DISTRICT', 'DISTRICT_NAME', 'SCHOOL_NAME', 'SCHOOL_ID',\n",
        "       'GRADES_SERVED', 'SAFE_SCHOOL', 'AVERAGE_DAILY_MEMBERSHIP', 'TOTAL',\n",
        "       'WHITE', 'AFRICAN_AMERICAN', 'HISPANIC', 'ASIAN', 'NATIVE_AMERICAN',\n",
        "       'HAWAIIAN_PACISLD', 'MALE', 'FEMALE', 'WHITE_PCT',\n",
        "       'AFRICAN_AMERICAN_PCT', 'HISPANIC_PCT', 'ASIAN_PCT',\n",
        "       'NATIVE_AMERICAN_PCT', 'HAWAIIAN_PACISLD_PCT', 'MALE_PCT', 'FEMALE_PCT',\n",
        "       'WHITE_MALE', 'AFRICAN_AMERICAN_MALE', 'HISPANIC_MALE', 'ASIAN_MALE',\n",
        "       'NATIVE_AMERICAN_MALE', 'HAWAIIAN_PACISLD_MALE', 'WHITE_FEMALE',\n",
        "       'AFRICAN_AMERICAN_FEMALE', 'HISPANIC_FEMALE', 'ASIAN_FEMALE',\n",
        "       'NATIVE_AMERICAN_FEMALE', 'HAWAIIAN_PACISLD_FEMALE',\n",
        "       'LIMITED_ENGLISH_PROFICIENT_PCT', 'LIMITED_ENGLISH_PROFICIENT',\n",
        "       'NUMBER_EXEMPT_FROM_READING_ASSESSMENT', 'STUDENTS_WITH_DISABILITIES',\n",
        "       'STUDENTS_WITH_DISABILITIES_PCT', 'ECONOMICALLY_DISADVANTAGED',\n",
        "       'ECONOMICALLY_DISADVANTAGED_PCT']"
      ],
      "execution_count": 0,
      "outputs": []
    },
    {
      "cell_type": "code",
      "metadata": {
        "id": "gaxM3hp2OFQh",
        "colab_type": "code",
        "colab": {}
      },
      "source": [
        "# Let's restrict our columns to only those we want to consider:\n",
        "# Perhaps only 'DISTRICT_NAME', 'SCHOOL_NAME','MALE_PCT', 'FEMALE_PCT'\n",
        "ColumnsChosen = ['DISTRICT_NAME', 'SCHOOL_NAME','MALE_PCT', 'FEMALE_PCT']"
      ],
      "execution_count": 0,
      "outputs": []
    },
    {
      "cell_type": "code",
      "metadata": {
        "id": "JypBLBU4O4HU",
        "colab_type": "code",
        "outputId": "f032135e-81d8-45d5-e5c1-1fbf26bb11c4",
        "colab": {
          "base_uri": "https://localhost:8080/",
          "height": 206
        }
      },
      "source": [
        "# Now let's consider HSProfile restricted to only these columns\n",
        "HSProfile[['DISTRICT_NAME', 'SCHOOL_NAME','MALE_PCT', 'FEMALE_PCT']].head()"
      ],
      "execution_count": 31,
      "outputs": [
        {
          "output_type": "execute_result",
          "data": {
            "text/html": [
              "<div>\n",
              "<style scoped>\n",
              "    .dataframe tbody tr th:only-of-type {\n",
              "        vertical-align: middle;\n",
              "    }\n",
              "\n",
              "    .dataframe tbody tr th {\n",
              "        vertical-align: top;\n",
              "    }\n",
              "\n",
              "    .dataframe thead th {\n",
              "        text-align: right;\n",
              "    }\n",
              "</style>\n",
              "<table border=\"1\" class=\"dataframe\">\n",
              "  <thead>\n",
              "    <tr style=\"text-align: right;\">\n",
              "      <th></th>\n",
              "      <th>DISTRICT_NAME</th>\n",
              "      <th>SCHOOL_NAME</th>\n",
              "      <th>MALE_PCT</th>\n",
              "      <th>FEMALE_PCT</th>\n",
              "    </tr>\n",
              "  </thead>\n",
              "  <tbody>\n",
              "    <tr>\n",
              "      <th>2</th>\n",
              "      <td>Anderson County</td>\n",
              "      <td>Anderson County High School</td>\n",
              "      <td>50.756144</td>\n",
              "      <td>49.243856</td>\n",
              "    </tr>\n",
              "    <tr>\n",
              "      <th>3</th>\n",
              "      <td>Anderson County</td>\n",
              "      <td>Anderson County Career  Technical Center</td>\n",
              "      <td>NaN</td>\n",
              "      <td>NaN</td>\n",
              "    </tr>\n",
              "    <tr>\n",
              "      <th>8</th>\n",
              "      <td>Anderson County</td>\n",
              "      <td>Clinton High School</td>\n",
              "      <td>52.201258</td>\n",
              "      <td>47.798742</td>\n",
              "    </tr>\n",
              "    <tr>\n",
              "      <th>27</th>\n",
              "      <td>Oak Ridge</td>\n",
              "      <td>Oak Ridge High School</td>\n",
              "      <td>50.611951</td>\n",
              "      <td>49.388049</td>\n",
              "    </tr>\n",
              "    <tr>\n",
              "      <th>33</th>\n",
              "      <td>Bedford County</td>\n",
              "      <td>Cascade High School</td>\n",
              "      <td>55.534709</td>\n",
              "      <td>44.465291</td>\n",
              "    </tr>\n",
              "  </tbody>\n",
              "</table>\n",
              "</div>"
            ],
            "text/plain": [
              "      DISTRICT_NAME  ... FEMALE_PCT\n",
              "2   Anderson County  ...  49.243856\n",
              "3   Anderson County  ...        NaN\n",
              "8   Anderson County  ...  47.798742\n",
              "27        Oak Ridge  ...  49.388049\n",
              "33   Bedford County  ...  44.465291\n",
              "\n",
              "[5 rows x 4 columns]"
            ]
          },
          "metadata": {
            "tags": []
          },
          "execution_count": 31
        }
      ]
    },
    {
      "cell_type": "code",
      "metadata": {
        "id": "sTZbQr6kQOaF",
        "colab_type": "code",
        "outputId": "d9f3e058-92fc-4b49-d669-e0e9c7b1e144",
        "colab": {
          "base_uri": "https://localhost:8080/",
          "height": 206
        }
      },
      "source": [
        "# There is another way we can get the same results.\n",
        "# Remember, we create a list of columns named ColumnsChosen\n",
        "HSProfile[ColumnsChosen].head()"
      ],
      "execution_count": 30,
      "outputs": [
        {
          "output_type": "execute_result",
          "data": {
            "text/html": [
              "<div>\n",
              "<style scoped>\n",
              "    .dataframe tbody tr th:only-of-type {\n",
              "        vertical-align: middle;\n",
              "    }\n",
              "\n",
              "    .dataframe tbody tr th {\n",
              "        vertical-align: top;\n",
              "    }\n",
              "\n",
              "    .dataframe thead th {\n",
              "        text-align: right;\n",
              "    }\n",
              "</style>\n",
              "<table border=\"1\" class=\"dataframe\">\n",
              "  <thead>\n",
              "    <tr style=\"text-align: right;\">\n",
              "      <th></th>\n",
              "      <th>DISTRICT_NAME</th>\n",
              "      <th>SCHOOL_NAME</th>\n",
              "      <th>MALE_PCT</th>\n",
              "      <th>FEMALE_PCT</th>\n",
              "    </tr>\n",
              "  </thead>\n",
              "  <tbody>\n",
              "    <tr>\n",
              "      <th>2</th>\n",
              "      <td>Anderson County</td>\n",
              "      <td>Anderson County High School</td>\n",
              "      <td>50.756144</td>\n",
              "      <td>49.243856</td>\n",
              "    </tr>\n",
              "    <tr>\n",
              "      <th>3</th>\n",
              "      <td>Anderson County</td>\n",
              "      <td>Anderson County Career  Technical Center</td>\n",
              "      <td>NaN</td>\n",
              "      <td>NaN</td>\n",
              "    </tr>\n",
              "    <tr>\n",
              "      <th>8</th>\n",
              "      <td>Anderson County</td>\n",
              "      <td>Clinton High School</td>\n",
              "      <td>52.201258</td>\n",
              "      <td>47.798742</td>\n",
              "    </tr>\n",
              "    <tr>\n",
              "      <th>27</th>\n",
              "      <td>Oak Ridge</td>\n",
              "      <td>Oak Ridge High School</td>\n",
              "      <td>50.611951</td>\n",
              "      <td>49.388049</td>\n",
              "    </tr>\n",
              "    <tr>\n",
              "      <th>33</th>\n",
              "      <td>Bedford County</td>\n",
              "      <td>Cascade High School</td>\n",
              "      <td>55.534709</td>\n",
              "      <td>44.465291</td>\n",
              "    </tr>\n",
              "  </tbody>\n",
              "</table>\n",
              "</div>"
            ],
            "text/plain": [
              "      DISTRICT_NAME  ... FEMALE_PCT\n",
              "2   Anderson County  ...  49.243856\n",
              "3   Anderson County  ...        NaN\n",
              "8   Anderson County  ...  47.798742\n",
              "27        Oak Ridge  ...  49.388049\n",
              "33   Bedford County  ...  44.465291\n",
              "\n",
              "[5 rows x 4 columns]"
            ]
          },
          "metadata": {
            "tags": []
          },
          "execution_count": 30
        }
      ]
    },
    {
      "cell_type": "markdown",
      "metadata": {
        "id": "uRvsUCIyQvuG",
        "colab_type": "text"
      },
      "source": [
        "Why do we put column names in quotes, like ... 'GRADES_SERVED', but not ColumnsChosen?\n",
        "\n",
        "What do you think?\n",
        "\n",
        "ColumnsChosen are an array type which means that it can be called by its name. While 'GRADES_SERVED' is apart of the dataset columns so it must be called in quotes."
      ]
    },
    {
      "cell_type": "markdown",
      "metadata": {
        "id": "65OVhfDiK8IB",
        "colab_type": "text"
      },
      "source": [
        "*   Descriptive Statistics"
      ]
    },
    {
      "cell_type": "code",
      "metadata": {
        "id": "3_xAOZ_dRSlm",
        "colab_type": "code",
        "outputId": "5e8ba760-c333-4f15-d269-fcd6a31a19d7",
        "colab": {
          "base_uri": "https://localhost:8080/",
          "height": 34
        }
      },
      "source": [
        "# Suppose we're interested in the percentage of females across all Tennessee High Schools\n",
        "# What do you suppose the highest percentage might be?\n",
        "HSProfile['FEMALE_PCT'].max()\n",
        "\n",
        "# the lowest?\n",
        "#HSProfile['FEMALE_PCT'].min()"
      ],
      "execution_count": 0,
      "outputs": [
        {
          "output_type": "execute_result",
          "data": {
            "text/plain": [
              "68.1318681318681"
            ]
          },
          "metadata": {
            "tags": []
          },
          "execution_count": 19
        }
      ]
    },
    {
      "cell_type": "code",
      "metadata": {
        "id": "58nOlfu9SgZ5",
        "colab_type": "code",
        "outputId": "a3575599-8883-4061-9ff0-2fd4d655181c",
        "colab": {
          "base_uri": "https://localhost:8080/",
          "height": 121
        }
      },
      "source": [
        "# Each cell only prints out the last output from a cell.\n",
        "# If you want more, you can use the print command.\n",
        "print('Female PCT')\n",
        "print('Max:') \n",
        "print(HSProfile['FEMALE_PCT'].max())\n",
        "print()\n",
        "print('Min:') \n",
        "print(HSProfile['FEMALE_PCT'].min())\n"
      ],
      "execution_count": 0,
      "outputs": [
        {
          "output_type": "stream",
          "text": [
            "Female PCT\n",
            "Max:\n",
            "68.1318681318681\n",
            "\n",
            "Min:\n",
            "21.9512195121951\n"
          ],
          "name": "stdout"
        }
      ]
    },
    {
      "cell_type": "code",
      "metadata": {
        "id": "zhA8HaWDTvmb",
        "colab_type": "code",
        "outputId": "04cea3f3-d2b2-46e5-962e-7d06ab4aa5a1",
        "colab": {
          "base_uri": "https://localhost:8080/",
          "height": 173
        }
      },
      "source": [
        "# We may want to know even more information.\n",
        "# Perhaps we would like to know about the distribution of 'FEMALE_PCT'\n",
        "# What we want is a look at the Descriptive Statistics.\n",
        "HSProfile['FEMALE_PCT'].describe()"
      ],
      "execution_count": 0,
      "outputs": [
        {
          "output_type": "execute_result",
          "data": {
            "text/plain": [
              "count    288.000000\n",
              "mean      48.609365\n",
              "std        5.027362\n",
              "min       21.951220\n",
              "25%       47.215994\n",
              "50%       48.783867\n",
              "75%       50.109844\n",
              "max       68.131868\n",
              "Name: FEMALE_PCT, dtype: float64"
            ]
          },
          "metadata": {
            "tags": []
          },
          "execution_count": 14
        }
      ]
    },
    {
      "cell_type": "markdown",
      "metadata": {
        "id": "z7iR_UtWUpcJ",
        "colab_type": "text"
      },
      "source": [
        "What do the descriptive statistics tell us about the distribution of values in the case of FEMALE_PCT across Tennessee High Schools?\n",
        "\n",
        "What do you think?\n",
        "\n",
        "The descriptive statistics tell us that across Tennessee High Schools, there are 288 female students across Tennessee High Schools and the average amount of females in each high school is 48.6%. Also the smallest amount of females in a high school is 21.9% and the max amount in high school is 68.13%."
      ]
    },
    {
      "cell_type": "code",
      "metadata": {
        "id": "uI_Szcg_gHly",
        "colab_type": "code",
        "outputId": "9de94ef5-e912-4802-9852-cb9431c53db5",
        "colab": {
          "base_uri": "https://localhost:8080/",
          "height": 135
        }
      },
      "source": [
        "# How would you locate the schools with the greatest/smallest FEMALE_PCT?\n",
        "FemaleMax = HSProfile['FEMALE_PCT'].max()\n",
        "FemaleMin = HSProfile['FEMALE_PCT'].min()\n",
        "\n",
        "# Show all schools where the max (min) is achieved\n",
        "FMaxSchools = HSProfile[HSProfile['FEMALE_PCT']== FemaleMax]\n",
        "FMaxSchools"
      ],
      "execution_count": 0,
      "outputs": [
        {
          "output_type": "execute_result",
          "data": {
            "text/html": [
              "<div>\n",
              "<style scoped>\n",
              "    .dataframe tbody tr th:only-of-type {\n",
              "        vertical-align: middle;\n",
              "    }\n",
              "\n",
              "    .dataframe tbody tr th {\n",
              "        vertical-align: top;\n",
              "    }\n",
              "\n",
              "    .dataframe thead th {\n",
              "        text-align: right;\n",
              "    }\n",
              "</style>\n",
              "<table border=\"1\" class=\"dataframe\">\n",
              "  <thead>\n",
              "    <tr style=\"text-align: right;\">\n",
              "      <th></th>\n",
              "      <th>YEAR</th>\n",
              "      <th>DISTRICT</th>\n",
              "      <th>DISTRICT_NAME</th>\n",
              "      <th>SCHOOL_NAME</th>\n",
              "      <th>SCHOOL_ID</th>\n",
              "      <th>GRADES_SERVED</th>\n",
              "      <th>SAFE_SCHOOL</th>\n",
              "      <th>AVERAGE_DAILY_MEMBERSHIP</th>\n",
              "      <th>TOTAL</th>\n",
              "      <th>WHITE</th>\n",
              "      <th>AFRICAN_AMERICAN</th>\n",
              "      <th>HISPANIC</th>\n",
              "      <th>ASIAN</th>\n",
              "      <th>NATIVE_AMERICAN</th>\n",
              "      <th>HAWAIIAN_PACISLD</th>\n",
              "      <th>MALE</th>\n",
              "      <th>FEMALE</th>\n",
              "      <th>WHITE_PCT</th>\n",
              "      <th>AFRICAN_AMERICAN_PCT</th>\n",
              "      <th>HISPANIC_PCT</th>\n",
              "      <th>ASIAN_PCT</th>\n",
              "      <th>NATIVE_AMERICAN_PCT</th>\n",
              "      <th>HAWAIIAN_PACISLD_PCT</th>\n",
              "      <th>MALE_PCT</th>\n",
              "      <th>FEMALE_PCT</th>\n",
              "      <th>WHITE_MALE</th>\n",
              "      <th>AFRICAN_AMERICAN_MALE</th>\n",
              "      <th>HISPANIC_MALE</th>\n",
              "      <th>ASIAN_MALE</th>\n",
              "      <th>NATIVE_AMERICAN_MALE</th>\n",
              "      <th>HAWAIIAN_PACISLD_MALE</th>\n",
              "      <th>WHITE_FEMALE</th>\n",
              "      <th>AFRICAN_AMERICAN_FEMALE</th>\n",
              "      <th>HISPANIC_FEMALE</th>\n",
              "      <th>ASIAN_FEMALE</th>\n",
              "      <th>NATIVE_AMERICAN_FEMALE</th>\n",
              "      <th>HAWAIIAN_PACISLD_FEMALE</th>\n",
              "      <th>LIMITED_ENGLISH_PROFICIENT_PCT</th>\n",
              "      <th>LIMITED_ENGLISH_PROFICIENT</th>\n",
              "      <th>NUMBER_EXEMPT_FROM_READING_ASSESSMENT</th>\n",
              "      <th>STUDENTS_WITH_DISABILITIES</th>\n",
              "      <th>STUDENTS_WITH_DISABILITIES_PCT</th>\n",
              "      <th>ECONOMICALLY_DISADVANTAGED</th>\n",
              "      <th>ECONOMICALLY_DISADVANTAGED_PCT</th>\n",
              "    </tr>\n",
              "  </thead>\n",
              "  <tbody>\n",
              "    <tr>\n",
              "      <th>301</th>\n",
              "      <td>2015</td>\n",
              "      <td>190</td>\n",
              "      <td>Davidson County</td>\n",
              "      <td>Nashville Big Picture High School</td>\n",
              "      <td>53</td>\n",
              "      <td>Grades 9-12</td>\n",
              "      <td>SAFE SCHOOL</td>\n",
              "      <td>179.0</td>\n",
              "      <td>182.0</td>\n",
              "      <td>66.0</td>\n",
              "      <td>100.0</td>\n",
              "      <td>14.0</td>\n",
              "      <td>2.0</td>\n",
              "      <td>NaN</td>\n",
              "      <td>NaN</td>\n",
              "      <td>58.0</td>\n",
              "      <td>124.0</td>\n",
              "      <td>36.263736</td>\n",
              "      <td>54.9451</td>\n",
              "      <td>7.692308</td>\n",
              "      <td>1.0989</td>\n",
              "      <td>NaN</td>\n",
              "      <td>NaN</td>\n",
              "      <td>31.868132</td>\n",
              "      <td>68.131868</td>\n",
              "      <td>23.0</td>\n",
              "      <td>29.0</td>\n",
              "      <td>5.0</td>\n",
              "      <td>1.0</td>\n",
              "      <td>NaN</td>\n",
              "      <td>NaN</td>\n",
              "      <td>43.0</td>\n",
              "      <td>71.0</td>\n",
              "      <td>9.0</td>\n",
              "      <td>1.0</td>\n",
              "      <td>NaN</td>\n",
              "      <td>NaN</td>\n",
              "      <td>1.098901</td>\n",
              "      <td>2.0</td>\n",
              "      <td>NaN</td>\n",
              "      <td>19.0</td>\n",
              "      <td>10.4396</td>\n",
              "      <td>106.0</td>\n",
              "      <td>58.241758</td>\n",
              "    </tr>\n",
              "  </tbody>\n",
              "</table>\n",
              "</div>"
            ],
            "text/plain": [
              "     YEAR  DISTRICT  ... ECONOMICALLY_DISADVANTAGED ECONOMICALLY_DISADVANTAGED_PCT\n",
              "301  2015       190  ...                      106.0                      58.241758\n",
              "\n",
              "[1 rows x 44 columns]"
            ]
          },
          "metadata": {
            "tags": []
          },
          "execution_count": 22
        }
      ]
    },
    {
      "cell_type": "code",
      "metadata": {
        "id": "lu3bbnd7kFky",
        "colab_type": "code",
        "colab": {}
      },
      "source": [
        ""
      ],
      "execution_count": 0,
      "outputs": []
    }
  ]
}